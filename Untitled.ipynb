{
 "cells": [
  {
   "cell_type": "code",
   "execution_count": 2,
   "id": "441f754e-7f0c-4e6f-92fe-259a3789a392",
   "metadata": {},
   "outputs": [],
   "source": [
    "import numpy as np\n",
    "import math as m"
   ]
  },
  {
   "cell_type": "code",
   "execution_count": 7,
   "id": "b110d7e0-f1ac-4916-bfe6-924b9898e890",
   "metadata": {},
   "outputs": [],
   "source": [
    "def oscil_func(theta, del_m21, E):\n",
    "    \"\"\"\n",
    "    Variables needed to get probability out:\n",
    "        mixing angle (theta) idk where to get this from (data im assuming?)\n",
    "        mass splitting (del_m21) idk where to get this from \n",
    "        Length travelled (L) ~ 470m\n",
    "        Energy (E) taken from reconstructed v_mu energy\n",
    "    \"\"\"\n",
    "    \n",
    "    # this doesnt work yet\n",
    "    L = 47\n",
    "    mixing = (m.sin(2*theta)**2)\n",
    "    mass_split = np.sin(((del_m21**2)*L)/4*E)**2    \n",
    "    \n",
    "    prob = mixing * mass_split\n",
    "    return prob"
   ]
  },
  {
   "cell_type": "code",
   "execution_count": 8,
   "id": "0a88e083-ad32-415a-b271-04a8b9054321",
   "metadata": {},
   "outputs": [
    {
     "name": "stdout",
     "output_type": "stream",
     "text": [
      "[0 1 2 3 4 5 6 7 8 9]\n",
      "[0.         0.01262583 0.04973212 0.10905237 0.18696323 0.2787058\n",
      " 0.37867632 0.48076848 0.57874635 0.66662533]\n"
     ]
    }
   ],
   "source": [
    "q = np.array([0,1,2,3,4,5,6,7,8,9])\n",
    "print(q)\n",
    "\n",
    "print(oscil_func(1,2,q))"
   ]
  },
  {
   "cell_type": "code",
   "execution_count": null,
   "id": "844d20fa-29d4-4c4b-b84c-093abc1acbc5",
   "metadata": {},
   "outputs": [],
   "source": []
  },
  {
   "cell_type": "code",
   "execution_count": null,
   "id": "49481b35-87b4-428e-b546-7a25bbe48096",
   "metadata": {
    "tags": []
   },
   "outputs": [],
   "source": [
    "def apply_oscillations(MC_data):\n",
    "    # apply the oscillation calculations to the data\n",
    "    \n",
    "    \n",
    "    # collect the v_u CC data as histograms wrt energy\n",
    "    # then apply oscillation function to raise or lower their values\n",
    "    # then reinsert this into MC_DATA histogram?"
   ]
  },
  {
   "cell_type": "markdown",
   "id": "c82fa6ed-53f2-48c9-97bf-e172df6967a4",
   "metadata": {},
   "source": [
    "Testing part 11 -> 12 disappearance nonsense"
   ]
  },
  {
   "cell_type": "code",
   "execution_count": 66,
   "id": "6f6e2f93-7db0-4578-867c-99afcdefc6a5",
   "metadata": {},
   "outputs": [
    {
     "name": "stdout",
     "output_type": "stream",
     "text": [
      "        category  trk_energy_tot    weight\n",
      "0             21        1.164239  0.000002\n",
      "1             21        1.164239  0.000002\n",
      "18            21        0.868494  0.186696\n",
      "20            21        0.763132  0.179834\n",
      "21            21        0.763132  0.179834\n",
      "...          ...             ...       ...\n",
      "555596         7        0.502524  0.257732\n",
      "555605         7        0.348882  0.257732\n",
      "555606         7        0.578289  0.257732\n",
      "555607         7        0.578289  0.257732\n",
      "555615         7        0.444761  0.257732\n",
      "\n",
      "[128735 rows x 3 columns]\n"
     ]
    }
   ],
   "source": [
    "# dup the dataframe\n",
    "copydf = MC_EXT.copy(deep=False)\n",
    "# get rid of all the rubbish columns that you dont need\n",
    "new_copydf = copydf[['category', 'trk_energy_tot', 'weight']]\n",
    "\n",
    "# cut the mu data out of the frame\n",
    "\n",
    "print(new_copydf)"
   ]
  },
  {
   "cell_type": "code",
   "execution_count": 68,
   "id": "9f8f9afb-df06-4fec-ba35-8e0a3476f386",
   "metadata": {},
   "outputs": [
    {
     "name": "stdout",
     "output_type": "stream",
     "text": [
      "        category  trk_energy_tot    weight\n",
      "0             21        1.164239  0.000002\n",
      "1             21        1.164239  0.000002\n",
      "18            21        0.868494  0.186696\n",
      "20            21        0.763132  0.179834\n",
      "21            21        0.763132  0.179834\n",
      "...          ...             ...       ...\n",
      "420128        21        0.905833  0.158957\n",
      "420153        21        0.314991  0.158957\n",
      "420164        21        0.913495  0.158957\n",
      "420165        21        0.913495  0.158957\n",
      "420166        21        0.913495  0.158957\n",
      "\n",
      "[97759 rows x 3 columns]\n",
      "        category  trk_energy_tot    weight\n",
      "36             4        2.545609  0.158957\n",
      "37             4        2.545609  0.158957\n",
      "38             4        2.545609  0.158957\n",
      "43            31        0.607876  0.158957\n",
      "44            31        0.607876  0.158957\n",
      "...          ...             ...       ...\n",
      "555596         7        0.502524  0.257732\n",
      "555605         7        0.348882  0.257732\n",
      "555606         7        0.578289  0.257732\n",
      "555607         7        0.578289  0.257732\n",
      "555615         7        0.444761  0.257732\n",
      "\n",
      "[30976 rows x 3 columns]\n"
     ]
    }
   ],
   "source": [
    "# select the muon neutrinos\n",
    "muon_df = new_copydf[new_copydf['category'] == 21]\n",
    "print(muon_df)\n",
    "\n",
    "# then remove them from the copy\n",
    "muless_copydf = new_copydf[new_copydf['category'] != 21]\n",
    "print(muless_copydf)"
   ]
  },
  {
   "cell_type": "markdown",
   "id": "4f83c9aa-b300-4c9a-a5a2-fe2b89b13b64",
   "metadata": {},
   "source": [
    "checks out, as adding the two together gives the full initial database\n",
    "\n",
    "now to make the histogram out of the muon data"
   ]
  },
  {
   "cell_type": "code",
   "execution_count": 92,
   "id": "ce0bec79-8fd8-4cd6-bb5b-fd8843b17ce3",
   "metadata": {},
   "outputs": [
    {
     "name": "stdout",
     "output_type": "stream",
     "text": [
      "30\n",
      "31\n"
     ]
    },
    {
     "data": {
      "text/plain": [
       "<BarContainer object of 30 artists>"
      ]
     },
     "execution_count": 92,
     "metadata": {},
     "output_type": "execute_result"
    },
    {
     "data": {
      "image/png": "[encoded data removed]",
      "text/plain": [
       "<Figure size 432x288 with 1 Axes>"
      ]
     },
     "metadata": {
      "needs_background": "light"
     },
     "output_type": "display_data"
    }
   ],
   "source": [
    "# you want to apply the weights either now or when you create the full plot, as its all multiplicative. just dont do it twice!\n",
    "mu_hist, mu_bin_edges = np.histogram(muon_df['trk_energy_tot'], weights = muon_df['weight'], bins = 30, range=[np.min(MC_EXT['trk_energy_tot']), np.max(MC_EXT['trk_energy_tot'])])\n",
    "print(len(mu_hist))\n",
    "print(len(mu_bin_edges))\n",
    "# take bin centres\n",
    "mu_bin_centers = (mu_bin_edges[:-1] + mu_bin_edges[1:]) / 2\n",
    "\n",
    "plt.bar(mu_bin_centers, mu_hist)"
   ]
  },
  {
   "cell_type": "markdown",
   "id": "1f0e98cd-1074-4a2e-bfd1-094862c2dd5f",
   "metadata": {},
   "source": [
    "So now you have the mu data, with the energy being the bin centres, and the hist being the events distribution number. Need to oscillate this data, plug in to the MC data and then take the chi squared for each.\n",
    "\n",
    "David was saying instead just take the sum of the weights in each bin and apply oscillation probability for each energy"
   ]
  },
  {
   "cell_type": "code",
   "execution_count": 101,
   "id": "4d7374e6-c410-4a25-9162-4a7cc3ca3d78",
   "metadata": {},
   "outputs": [
    {
     "name": "stdout",
     "output_type": "stream",
     "text": [
      "[ 295.78776023 1143.12335726 1941.77711794 2290.8126812  2336.83804118\n",
      " 2149.89188107 1842.56561389 1436.45903107 1099.50777998  774.9331437\n",
      "  598.46235234  417.17253226  309.88138458  224.54620279  183.00431645\n",
      "  139.03767386   92.96231677   79.86053162   63.14831951   45.94873941\n",
      "   31.53866708   37.17269298   17.47569813   19.35452406   16.63734062\n",
      "   10.32364416   12.29702981    4.92768755    5.61500623    6.51449916]\n"
     ]
    },
    {
     "data": {
      "image/png": "[encoded data removed]",
      "text/plain": [
       "<Figure size 432x288 with 1 Axes>"
      ]
     },
     "metadata": {
      "needs_background": "light"
     },
     "output_type": "display_data"
    }
   ],
   "source": [
    "# now multiple each bins content with (1-Prob of oscillation wrt E, m21, etc)#\n",
    "\n",
    "# use model theta from paper\n",
    "theta = pi*(3/8)\n",
    "del_m21 = 10 #eV^2\n",
    "\n",
    "# make new mu_histograms wrt 1-P of oscillation with values of theta and del_m21\n",
    "new_mu_hist = mu_hist * (1-oscil_func(theta, del_m21, mu_bin_centers))\n",
    "295.78776023 1143.12335726 1941.77711794 2290.8126812  2336.83804118\n",
    " 2149.89188107 1842.56561389 1436.45903107 1099.50777998  774.9331437\n",
    "  598.46235234  417.17253226  309.88138458  224.54620279  183.00431645\n",
    "  139.03767386   92.96231677   79.86053162   63.14831951   45.94873941\n",
    "   31.53866708   37.17269298   17.47569813   19.35452406   16.63734062\n",
    "   10.32364416   12.29702981    4.92768755    5.61500623    6.51449916\n",
    "\n",
    "#print(mu_hist)\n",
    "#print(\"\")\n",
    "#print(new_mu_hist)\n",
    "\n",
    "plt.bar(mu_bin_centers, mu_hist)\n",
    "plt.bar(mu_bin_centers, new_mu_hist)\n",
    "plt.legend(['old guff', 'new guff'])\n",
    "plt.show()"
   ]
  },
  {
   "cell_type": "code",
   "execution_count": 100,
   "id": "0e3dd1c4-6c9a-4e41-aeb0-3fc06b14c8c3",
   "metadata": {},
   "outputs": [
    {
     "name": "stdout",
     "output_type": "stream",
     "text": [
      "[ 273.07926988 1057.81991859 1101.05255325 1339.63083331 2201.63270781\n",
      " 1944.6747777  1012.0763759   871.35858073 1054.08484861  683.34289377\n",
      "  319.57417395  262.8967377   301.40973977  192.5365803    95.41319716\n",
      "   91.10433883   91.46475412   66.42492952   32.30470688   31.31312435\n",
      "   31.29381689   29.92654502    8.82007771   13.71373235   16.59735033\n",
      "    8.0286514     6.15915908    3.6274684     5.61446783    4.88575435]\n",
      "[0.21691204 0.3445692  0.47222636 0.59988352 0.72754068 0.85519784\n",
      " 0.982855   1.11051216 1.23816932 1.36582648 1.49348365 1.62114081\n",
      " 1.74879797 1.87645513 2.00411229 2.13176945 2.25942661 2.38708377\n",
      " 2.51474093 2.64239809 2.77005525 2.89771241 3.02536957 3.15302673\n",
      " 3.28068389 3.40834106 3.53599822 3.66365538 3.79131254 3.9189697 ]\n"
     ]
    }
   ],
   "source": [
    "# Then plug new_mu_hist histogram back into dataframe\n",
    "# difficult now as you want to avoid touching the weights of the new stuff, so I guess just set to 1, as they're already weighted\n",
    "\n",
    "# create histogram from new data\n",
    "print(new_mu_hist)\n",
    "print(mu_bin_centers)\n",
    "\n",
    "# generate new pandas df\n",
    "mu_osc_df = pd.DataFrame(columns = ['category', 'trk_energy_tot', 'weight'])\n",
    "\n",
    "for i in range(len(new_mu_list):\n",
    "               "
   ]
  },
  {
   "cell_type": "code",
   "execution_count": 11,
   "id": "a1b74928-aa81-4a7e-9ee6-17726fae59ed",
   "metadata": {},
   "outputs": [],
   "source": [
    "def chi_squared_pearson(data, MC_data):\n",
    "    # scrape through bins for number of events in both data bins and Overlay + EXT bins (MC_EXT and data)\n",
    "    # data is real data, prediction is MC_data\n",
    "    # BUT ONLY COLLECT MUON NEUTRINO/SIGNAL DATA - CATEGORY = 21\n",
    "    \n",
    "    # take category = 21 data\n",
    "    \n",
    "    data = (MC_data - data)\n",
    "    np.sum()\n",
    "    return chi_squared"
   ]
  },
  {
   "cell_type": "code",
   "execution_count": 9,
   "id": "d03a752d-07e1-4db4-ae13-ad895ca74c9f",
   "metadata": {},
   "outputs": [],
   "source": [
    "import pandas as pd"
   ]
  },
  {
   "cell_type": "code",
   "execution_count": 10,
   "id": "c6bb2bb9-1730-44d6-a916-fb0d5a6f0215",
   "metadata": {},
   "outputs": [
    {
     "name": "stdout",
     "output_type": "stream",
     "text": [
      "   calories  duration\n",
      "0       420        50\n",
      "1       380        40\n",
      "2       390        45\n"
     ]
    }
   ],
   "source": [
    "data = {\n",
    "  \"calories\": [420, 380, 390],\n",
    "  \"duration\": [50, 40, 45]\n",
    "}\n",
    "\n",
    "copy = pd.DataFrame(data)\n",
    "\n",
    "print(copy)"
   ]
  },
  {
   "cell_type": "code",
   "execution_count": 12,
   "id": "31549436-4662-46eb-b005-0a664aff0840",
   "metadata": {},
   "outputs": [
    {
     "ename": "TypeError",
     "evalue": "'int' object is not iterable",
     "output_type": "error",
     "traceback": [
      "\u001b[0;31m---------------------------------------------------------------------------\u001b[0m",
      "\u001b[0;31mTypeError\u001b[0m                                 Traceback (most recent call last)",
      "Input \u001b[0;32mIn [12]\u001b[0m, in \u001b[0;36m<cell line: 1>\u001b[0;34m()\u001b[0m\n\u001b[0;32m----> 1\u001b[0m new_column \u001b[38;5;241m=\u001b[39m [x\u001b[38;5;241m*\u001b[39m\u001b[38;5;241m0.5\u001b[39m \u001b[38;5;28;01mfor\u001b[39;00m x \u001b[38;5;129;01min\u001b[39;00m \u001b[38;5;28mlen\u001b[39m(copy[\u001b[38;5;124m'\u001b[39m\u001b[38;5;124mcalories\u001b[39m\u001b[38;5;124m'\u001b[39m]) \u001b[38;5;28;01mif\u001b[39;00m copy[\u001b[38;5;124m'\u001b[39m\u001b[38;5;124mduration\u001b[39m\u001b[38;5;124m'\u001b[39m][x] \u001b[38;5;241m>\u001b[39m \u001b[38;5;241m44\u001b[39m]\n\u001b[1;32m      2\u001b[0m \u001b[38;5;28mprint\u001b[39m(new_column)\n",
      "\u001b[0;31mTypeError\u001b[0m: 'int' object is not iterable"
     ]
    }
   ],
   "source": []
  },
  {
   "cell_type": "code",
   "execution_count": null,
   "id": "0f454855-b9db-48f7-ae3d-a35dc22dc68f",
   "metadata": {},
   "outputs": [],
   "source": []
  }
 ],
 "metadata": {
  "kernelspec": {
   "display_name": "Python 3 (ipykernel)",
   "language": "python",
   "name": "python3"
  },
  "language_info": {
   "codemirror_mode": {
    "name": "ipython",
    "version": 3
   },
   "file_extension": ".py",
   "mimetype": "text/x-python",
   "name": "python",
   "nbconvert_exporter": "python",
   "pygments_lexer": "ipython3",
   "version": "3.9.13"
  }
 },
 "nbformat": 4,
 "nbformat_minor": 5
}
