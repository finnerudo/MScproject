{
 "cells": [
  {
   "cell_type": "code",
   "execution_count": 1,
   "id": "8ab81f70",
   "metadata": {
    "scrolled": true
   },
   "outputs": [
    {
     "name": "stdout",
     "output_type": "stream",
     "text": [
      "3.9.2 (default, Mar  7 2021, 07:53:23) \n",
      "[GCC 4.8.5 20150623 (Red Hat 4.8.5-44)]\n",
      "Welcome to JupyROOT 6.22/08\n",
      "Success\n"
     ]
    }
   ],
   "source": [
    "import os,sys,string, time\n",
    "print (sys.version)\n",
    "import ROOT\n",
    "import seaborn as sns\n",
    "from matplotlib.lines import Line2D\n",
    "from math import *\n",
    "from ROOT import gPad, TTree, TObject, TFile, gDirectory, TH1D, TH2D, TH3D, TCanvas, gROOT, TGaxis, gStyle, TColor, TLegend, THStack, TChain, TLatex, TText, TCollection, kRed, kBlue\n",
    "from array import array\n",
    "\n",
    "import matplotlib.pyplot as plt\n",
    "import awkward \n",
    "\n",
    "import numpy as np\n",
    "\n",
    "\n",
    "import uproot3\n",
    "\n",
    "import pandas as pd\n",
    "\n",
    "from root_pandas import read_root\n",
    "from platform import python_version\n",
    "\n",
    "import scipy as sci\n",
    "from scipy import stats\n",
    "import scipy.optimize as opt\n",
    "\n",
    "\n",
    "\n",
    "print ('Success')\n"
   ]
  },
  {
   "cell_type": "code",
   "execution_count": 2,
   "id": "eaaf724c",
   "metadata": {},
   "outputs": [],
   "source": [
    "def chi_distance(A, B):\n",
    "    # compute the chi-squared distance\n",
    "    chi = 0.5 * np.sum([((a - b) ** 2) / (a + b)\n",
    "                      for (a, b) in zip(A, B)])\n",
    "    return chi\n",
    "\n",
    "def diseppearance(angle, E):\n",
    "    #compute diseppearance fit for neutrinos\n",
    "    # assume delta m = 1ev for now\n",
    "    Prob = (np.sin(2*angle)**2)*(np.sin((1.27*500/E))**2)"
   ]
  },
  {
   "cell_type": "code",
   "execution_count": 3,
   "id": "6bc7aba6",
   "metadata": {},
   "outputs": [],
   "source": [
    "def element_index(vector,index,defval=9999.):\n",
    "    #print ('vector check....')\n",
    "    #print (idx)\n",
    "    #print (len(pidv))\n",
    "    return awkward.fromiter([pidv[tid] if ( (tid<len(pidv) ) & (tid>=0)) else defval for pidv,tid in zip(vector,index)])\n",
    "\n",
    "def index(argidx,vecsort,mask):\n",
    "    vid = vecsort[mask]\n",
    "    sizecheck = argidx if argidx>=0 else abs(argidx)-1\n",
    "    # find the position in the array after masking\n",
    "    mskd_pos = [v.argsort()[argidx] if len(v)>sizecheck else -1 for v in vid]\n",
    "    # go back to the corresponding position in the origin array before masking\n",
    "    result = [[i for i, n in enumerate(m) if n == 1][p] if (p)>=0 else -1 for m,p in zip(mask,mskd_pos)]\n",
    "    return result\n",
    "\n",
    "def get_idx_from_vec_sort(argidx,vecsort,mask):\n",
    "    vid = vecsort[mask]\n",
    "    sizecheck = argidx if argidx>=0 else abs(argidx)-1\n",
    "    # find the position in the array after masking\n",
    "    mskd_pos = [v.argsort()[argidx] if len(v)>sizecheck else -1 for v in vid]\n",
    "    # go back to the corresponding position in the origin array before masking\n",
    "    result = [[i for i, n in enumerate(m) if n == 1][p] if (p)>=0 else -1 for m,p in zip(mask,mskd_pos)]\n",
    "    return result"
   ]
  },
  {
   "cell_type": "code",
   "execution_count": 48,
   "id": "2d368690",
   "metadata": {},
   "outputs": [
    {
     "name": "stdout",
     "output_type": "stream",
     "text": [
      "[b'selected', b'run', b'sub', b'evt', b'trk_id', b'shr_id', b'trk2_id', b'shr2_id', b'shr_energy_tot', b'shr_energy', b'shr_energy_tot_cali', b'shr_energy_cali', b'shr_theta', b'shr_phi', b'shr_pca_0', b'shr_pca_1', b'shr_pca_2', b'shr_px', b'shr_py', b'shr_pz', b'shr_openangle', b'shr_tkfit_start_x', b'shr_tkfit_start_y', b'shr_tkfit_start_z', b'shr_tkfit_theta', b'shr_tkfit_phi', b'shr_start_x', b'shr_start_y', b'shr_start_z', b'shr_dedx_Y', b'shr_dedx_V', b'shr_dedx_U', b'shr_dedx_Y_cali', b'shr_dedx_V_cali', b'shr_dedx_U_cali', b'shr_tkfit_dedx_Y', b'shr_tkfit_dedx_V', b'shr_tkfit_dedx_U', b'shr_tkfit_dedx_max', b'shr_tkfit_nhits_Y', b'shr_tkfit_nhits_V', b'shr_tkfit_nhits_U', b'shr_llrpid_dedx_Y', b'shr_llrpid_dedx_V', b'shr_llrpid_dedx_U', b'shr_llrpid_dedx', b'shr_tkfit_dedx_Y_alt', b'shr_tkfit_dedx_V_alt', b'shr_tkfit_dedx_U_alt', b'shr_tkfit_nhits_Y_alt', b'shr_tkfit_nhits_V_alt', b'shr_tkfit_nhits_U_alt', b'trkfit', b'shr_tkfit_npoints', b'shr_tkfit_npointsvalid', b'shr_trkfitmedangle', b'shrmoliereavg', b'shrmoliererms', b'shr1shr2moliereavg', b'shr1shr2moliererms', b'shr1trk1moliereavg', b'shr1trk1moliererms', b'shr1trk2moliereavg', b'shr1trk2moliererms', b'ismerged', b'merge_bestdot', b'merge_bestdist', b'merge_vtx_x', b'merge_vtx_y', b'merge_vtx_z', b'merge_tk_ipfp', b'shr_tkfit_2cm_dedx_Y', b'shr_tkfit_2cm_dedx_V', b'shr_tkfit_2cm_dedx_U', b'shr_tkfit_2cm_nhits_Y', b'shr_tkfit_2cm_nhits_V', b'shr_tkfit_2cm_nhits_U', b'shr_tkfit_gap05_dedx_Y', b'shr_tkfit_gap05_dedx_V', b'shr_tkfit_gap05_dedx_U', b'shr_tkfit_gap05_nhits_Y', b'shr_tkfit_gap05_nhits_V', b'shr_tkfit_gap05_nhits_U', b'shr_tkfit_gap10_dedx_Y', b'shr_tkfit_gap10_dedx_V', b'shr_tkfit_gap10_dedx_U', b'shr_tkfit_gap10_nhits_Y', b'shr_tkfit_gap10_nhits_V', b'shr_tkfit_gap10_nhits_U', b'shr_chipr', b'shr_chimu', b'shr_bragg_p', b'shr_bragg_mu', b'shr_bragg_mip', b'shr_bragg_kaon', b'shr_bragg_pion', b'tksh_distance', b'tksh_angle', b'shr_distance', b'shr_score', b'shr_bkt_pdg', b'shr_bkt_purity', b'shr_bkt_completeness', b'shr_bkt_E', b'trk_len', b'trk_theta', b'trk_phi', b'trk_energy', b'trk_energy_muon', b'trk_energy_muon_mcs', b'trk_energy_tot', b'trk_energy_muon_tot', b'trk_distance', b'trk_score', b'trk_bkt_pdg', b'trk_bkt_purity', b'trk_bkt_completeness', b'trk_bkt_E', b'trk_chipr_best', b'trk_chipr_worst', b'trk_chimu_best', b'trk_chimu_worst', b'trk_chipr', b'trk_chimu', b'trk_hits_max', b'shr_hits_max', b'trk_hits_2nd', b'shr_hits_2nd', b'trkshrhitdist0', b'trkshrhitdist1', b'trkshrhitdist2', b'trk2shrhitdist0', b'trk2shrhitdist1', b'trk2shrhitdist2', b'trk1trk2hitdist0', b'trk1trk2hitdist1', b'trk1trk2hitdist2', b'total_hits_y', b'extra_energy_y', b'trk_energy_hits_tot', b'subcluster', b'shrsubclusters0', b'shrsubclusters1', b'shrsubclusters2', b'shrclusfrac0', b'shrclusfrac1', b'shrclusfrac2', b'shrclusdir0', b'shrclusdir1', b'shrclusdir2', b'shr_hits_tot', b'shr_hits_y_tot', b'shr_hits_u_tot', b'shr_hits_v_tot', b'trk_hits_tot', b'trk_hits_y_tot', b'trk_hits_u_tot', b'trk_hits_v_tot', b'_elecclusters_U_charge', b'_elecclusters_V_charge', b'_elecclusters_Y_charge', b'_elecclusters_U_N', b'_elecclusters_V_N', b'_elecclusters_Y_N', b'n_tracks_contained', b'n_showers_contained', b'matched_E', b'hits_ratio', b'contained_fraction', b'sps_contained_fraction', b'pt', b'p', b'pt_assume_muon', b'p_assume_muon', b'reco_e', b'dvtx', b'dtrk', b'contained_sps_ratio', b'dtrk_x_boundary', b'dtrk_y_boundary', b'dtrk_z_boundary', b'dshr_x_boundary', b'dshr_y_boundary', b'dshr_z_boundary', b'dvtx_x_boundary', b'dvtx_y_boundary', b'dvtx_z_boundary', b'dtrk_boundary', b'dvtx_boundary', b'dshr_boundary', b'dmc_boundary', b'CosmicIP', b'CosmicIPAll3D', b'CosmicDirAll3D', b'CosmicIPAll2DEnds', b'CosmicDirAll2DEnds', b'CosmicIPAll2DOvlp', b'CosmicDirAll2DOvlp', b'_closestNuCosmicDist', b'leeweight', b'true_pt', b'true_pt_visible', b'true_p', b'true_p_visible', b'true_e_visible', b'_opfilter_pe_beam', b'_opfilter_pe_veto', b'nu_pdg', b'ccnc', b'nu_parent_pdg', b'nu_hadron_pdg', b'nu_decay_mode', b'interaction', b'nu_e', b'nu_l', b'nu_pt', b'theta', b'isVtxInFiducial', b'truthFiducial', b'true_nu_vtx_t', b'true_nu_vtx_x', b'true_nu_vtx_y', b'true_nu_vtx_z', b'true_nu_vtx_sce_x', b'true_nu_vtx_sce_y', b'true_nu_vtx_sce_z', b'reco_nu_vtx_x', b'reco_nu_vtx_y', b'reco_nu_vtx_z', b'reco_nu_vtx_sce_x', b'reco_nu_vtx_sce_y', b'reco_nu_vtx_sce_z', b'nmuon', b'muon_e', b'muon_c', b'muon_p', b'nelec', b'elec_e', b'elec_c', b'elec_p', b'elec_vx', b'elec_vy', b'elec_vz', b'elec_px', b'elec_py', b'elec_pz', b'npi0', b'pi0_e', b'pi0_c', b'pi0_p', b'nneutron', b'nproton', b'proton_e', b'proton_c', b'proton_p', b'npion', b'pion_e', b'pion_c', b'pion_p', b'neta', b'eta_e', b'nslice', b'crtveto', b'crthitpe', b'pfp_slice_idx', b'category', b'backtracked_pdg', b'backtracked_e', b'backtracked_tid', b'backtracked_purity', b'backtracked_completeness', b'backtracked_overlay_purity', b'backtracked_px', b'backtracked_py', b'backtracked_pz', b'lep_e', b'pass', b'swtrig', b'evnhits', b'slpdg', b'slnhits', b'n_pfps', b'n_tracks', b'n_showers', b'pfp_generation_v', b'pfp_trk_daughters_v', b'pfp_shr_daughters_v', b'trk_score_v', b'pfpdg', b'pfnhits', b'pfnplanehits_U', b'pfnplanehits_V', b'pfnplanehits_Y', b'hits_u', b'hits_v', b'hits_y', b'topological_score', b'slclustfrac', b'mc_pdg', b'mc_E', b'mc_vx', b'mc_vy', b'mc_vz', b'mc_endx', b'mc_endy', b'mc_endz', b'mc_px', b'mc_py', b'mc_pz', b'mc_completeness', b'mc_purity', b'endmuonprocess', b'endmuonmichel', b'filter_antibdt', b'filter_ncpi0', b'filter_pi0', b'filter_ccinclusive', b'weightsFlux', b'weightsGenie', b'weightsReint', b'weightSpline', b'weightTune', b'weightSplineTimesTune', b'knobRPAup', b'knobRPAdn', b'knobCCMECup', b'knobCCMECdn', b'knobAxFFCCQEup', b'knobAxFFCCQEdn', b'knobVecFFCCQEup', b'knobVecFFCCQEdn', b'knobDecayAngMECup', b'knobDecayAngMECdn', b'knobThetaDelta2Npiup', b'knobThetaDelta2Npidn', b'flash_pe', b'flash_time', b'nu_flashmatch_score', b'best_cosmic_flashmatch_score', b'best_obviouscosmic_flashmatch_score', b'cosmic_flashmatch_score_v', b'mcf_nu_e', b'mcf_lep_e', b'mcf_actvol', b'mcf_nmm', b'mcf_nmp', b'mcf_nem', b'mcf_nep', b'mcf_np0', b'mcf_npp', b'mcf_npm', b'mcf_mcshr_elec_etot', b'mcf_pass_ccpi0', b'mcf_pass_ncpi0', b'mcf_pass_ccnopi', b'mcf_pass_ncnopi', b'mcf_pass_cccpi', b'mcf_pass_nccpi', b'X_SpcPts_v', b'Y_SpcPts_v', b'Z_SpcPts_v', b'shr_id_MCStool', b'shr_hits_max_MCStool', b'n_showers_contained_MCStool', b'trkshrscore_v', b'shrPCA_1Cr', b'shrPCA_2Cr', b'shrPCA_3Cr', b'shrPCA_1Ce', b'shrPCA_2Ce', b'shrPCA_3Ce', b'shrPCA1CAS', b'shrPCA2CAS', b'shrPCA3CAS', b'shrPCA_1Cr2h', b'shrPCA_2Cr2h', b'shrPCA_3Cr2h', b'shrPCA_1Cr1h', b'shrPCA_2Cr1h', b'shrPCA_3Cr1h', b'shrMCSMom', b'shrMCSMom1h', b'shrMCSMom2h', b'shrPCALen', b'n_shrSpcPts', b'PCAWin_1Cr_5cm', b'PCAWin_2Cr_5cm', b'PCAWin_3Cr_5cm', b'PCAWin_dist_5cm', b'PCAWin_npts_5cm', b'shrStart_5cm', b'shrStartMCS_5cm', b'shrMCSAS_5cm', b'shrPCA1CAS_5cm', b'shrPCA2CAS_5cm', b'shrPCA3CAS_5cm', b'shrPCA1CMed_5cm', b'PCAWin_1Cr_2_5cm', b'PCAWin_2Cr_2_5cm', b'PCAWin_3Cr_2_5cm', b'PCAWin_dist_2_5cm', b'PCAWin_npts_2_5cm', b'shrStart_2_5cm', b'shrStartMCS_2_5cm', b'shrMCSAS_2_5cm', b'shrPCA1CAS_2_5cm', b'shrPCA2CAS_2_5cm', b'shrPCA3CAS_2_5cm', b'shrPCA1CMed_2_5cm', b'DeltaMed', b'DeltaMed1h', b'DeltaMed2h', b'DeltaRMS', b'DeltaRMS1h', b'DeltaRMS2h', b'CylFrac_1cm', b'CylFrac1h_1cm', b'CylFrac2h_1cm', b'CylFrac_2cm', b'CylFrac1h_2cm', b'CylFrac2h_2cm', b'CylFrac_3cm', b'CylFrac1h_3cm', b'CylFrac2h_3cm', b'CylFrac_4cm', b'CylFrac1h_4cm', b'CylFrac2h_4cm', b'CylFrac_5cm', b'CylFrac1h_5cm', b'CylFrac2h_5cm', b'NeutrinoEnergy0', b'NeutrinoEnergy1', b'NeutrinoEnergy2', b'SliceCaloEnergy0', b'SliceCaloEnergy1', b'SliceCaloEnergy2', b'pi0_mcgamma0_e', b'pi0_mcgamma0_px', b'pi0_mcgamma0_py', b'pi0_mcgamma0_pz', b'pi0_mcrcdot0', b'pi0_mcrce0', b'pi0_mcgamma1_e', b'pi0_mcgamma1_px', b'pi0_mcgamma1_py', b'pi0_mcgamma1_pz', b'pi0_mcrcdot1', b'pi0_mcrce1', b'pi0_nshower', b'pi0_ntrack', b'pi0_ngamma', b'pi0_radlen1', b'pi0_radlen2', b'pi0_dot1', b'pi0_dot2', b'pi0_energy1_Y', b'pi0_energy2_Y', b'pi0_dir1_x', b'pi0_dir1_y', b'pi0_dir1_z', b'pi0_dir2_x', b'pi0_dir2_y', b'pi0_dir2_z', b'pi0_dedx1_Y', b'pi0_dedx2_Y', b'pi0_dedx1_fit_Y', b'pi0_dedx2_fit_Y', b'pi0_energy1_V', b'pi0_energy2_V', b'pi0_dedx1_V', b'pi0_dedx2_V', b'pi0_dedx1_fit_V', b'pi0_dedx2_fit_V', b'pi0_energy1_U', b'pi0_energy2_U', b'pi0_dedx1_U', b'pi0_dedx2_U', b'pi0_dedx1_fit_U', b'pi0_dedx2_fit_U', b'pi0_shrscore1', b'pi0_shrscore2', b'pi0_gammadot', b'pi0_mass_Y', b'pi0_mass_V', b'pi0_mass_U', b'pi0_rc_vtx_x', b'pi0_rc_vtx_y', b'pi0_rc_vtx_z', b'pi0truth_gamma_parent', b'pi0truth_elec_edep', b'pi0truth_elec_etot', b'pi0truth_elec_dist', b'pi0truth_elec_parent', b'pi0truth_gamma1_tid', b'pi0truth_gamma1_edep', b'pi0truth_gamma1_etot', b'pi0truth_gamma1_dist', b'pi0truth_gamma1_elec1', b'pi0truth_gamma1_elec2', b'pi0truth_gamma1_xpos', b'pi0truth_gamma1_ypos', b'pi0truth_gamma1_zpos', b'pi0truth_gamma2_tid', b'pi0truth_gamma2_edep', b'pi0truth_gamma2_etot', b'pi0truth_gamma2_dist', b'pi0truth_gamma2_elec1', b'pi0truth_gamma2_elec2', b'pi0truth_gamma2_xpos', b'pi0truth_gamma2_ypos', b'pi0truth_gamma2_zpos', b'pi0truth_gammadot', b'pi0truth_run', b'pi0truth_sub', b'pi0truth_evt', b'nflag_pl1', b'nnoise_pl1', b'nslhits_pl1', b'nslnoise_pl1', b'nhits_pl1', b'frac_slnoise_pl1', b'secondshower_U_charge', b'secondshower_U_nhit', b'secondshower_U_vtxdist', b'secondshower_U_eigenratio', b'secondshower_U_dot', b'secondshower_U_dir', b'secondshower_V_charge', b'secondshower_V_nhit', b'secondshower_V_vtxdist', b'secondshower_V_eigenratio', b'secondshower_V_dot', b'secondshower_V_dir', b'secondshower_Y_charge', b'secondshower_Y_nhit', b'secondshower_Y_vtxdist', b'secondshower_Y_eigenratio', b'secondshower_Y_dot', b'secondshower_Y_dir', b'shr_dedx_u_v', b'shr_dedx_v_v', b'shr_dedx_y_v', b'shr_energy_u_v', b'shr_energy_v_v', b'shr_energy_y_v', b'shr_pfp_id_v', b'shr_start_x_v', b'shr_start_y_v', b'shr_start_z_v', b'shr_dist_v', b'shr_start_U_v', b'shr_start_V_v', b'shr_px_v', b'shr_py_v', b'shr_pz_v', b'shr_openangle_v', b'shr_theta_v', b'shr_phi_v', b'shr_pitch_u_v', b'shr_pitch_v_v', b'shr_pitch_y_v', b'shr_tkfit_nhits_v', b'shr_tkfit_start_x_v', b'shr_tkfit_start_y_v', b'shr_tkfit_start_z_v', b'shr_tkfit_start_U_v', b'shr_tkfit_start_V_v', b'shr_tkfit_theta_v', b'shr_tkfit_phi_v', b'shr_tkfit_pitch_u_v', b'shr_tkfit_pitch_v_v', b'shr_tkfit_pitch_y_v', b'shr_tkfit_dedx_u_v', b'shr_tkfit_dedx_v_v', b'shr_tkfit_dedx_y_v', b'shr_tkfit_gap10_dedx_u_v', b'shr_tkfit_gap10_dedx_v_v', b'shr_tkfit_gap10_dedx_y_v', b'shr_tkfit_dedx_nhits_u_v', b'shr_tkfit_dedx_nhits_v_v', b'shr_tkfit_dedx_nhits_y_v', b'shr_llr_pid_u_v', b'shr_llr_pid_v_v', b'shr_llr_pid_y_v', b'shr_llr_pid_v', b'shr_llr_pid_score_v', b'shr_moliere_avg_v', b'shr_moliere_rms_v', b'evnunhits', b'evlepnhits', b'evpronhits', b'evpi1nhits', b'evpi0nhits', b'evneunhits', b'evgamnhits', b'evothnhits', b'slnunhits', b'sllepnhits', b'slpronhits', b'slpi1nhits', b'slpi0nhits', b'slneunhits', b'slgamnhits', b'slothnhits', b'pfnunhits', b'pflepnhits', b'pfpronhits', b'pfpi1nhits', b'pfpi0nhits', b'pfneunhits', b'pfgamnhits', b'pfothnhits', b'nu_completeness_from_pfp', b'nu_purity_from_pfp', b'trk_pfp_id_v', b'trk_dir_x_v', b'trk_dir_y_v', b'trk_dir_z_v', b'trk_start_x_v', b'trk_start_y_v', b'trk_start_z_v', b'trk_sce_start_x_v', b'trk_sce_start_y_v', b'trk_sce_start_z_v', b'trk_end_x_v', b'trk_end_y_v', b'trk_end_z_v', b'trk_sce_end_x_v', b'trk_sce_end_y_v', b'trk_sce_end_z_v', b'trk_distance_v', b'trk_theta_v', b'trk_phi_v', b'trk_len_v', b'trk_mcs_muon_mom_v', b'trk_range_muon_mom_v', b'trk_energy_proton_v', b'trk_energy_muon_v', b'trk_calo_energy_u_v', b'trk_calo_energy_v_v', b'trk_calo_energy_y_v', b'trk_llr_pid_u_v', b'trk_llr_pid_v_v', b'trk_llr_pid_y_v', b'trk_llr_pid_v', b'trk_llr_pid_score_v', b'bdt_nuNCpi0', b'bdt_numuCCpi0', b'bdt_numuCC', b'bdt_ext', b'bdt_cosmic', b'bdt_global', b'pass_antibdt_filter', b'bdt_pi0_np', b'bdt_nonpi0_np', b'bdt_bkg_0p', b'anglediff_Y', b'anglediff_V', b'anglediff_U', b'trkpid']\n"
     ]
    }
   ],
   "source": [
    "#MC\n",
    "loc_file = '/uboone/data/users/davidc/searchingfornues/v08_00_00_48/0928/run3/nslice/prodgenie_bnb_nu_uboone_overlay_mcc9.1_v08_00_00_26_filter_run3_reco2_G_reco2.root'\n",
    "\n",
    "#Data used in PELEE\n",
    "data_file = '/uboone/data/users/davidc/searchingfornues/v08_00_00_41/cc0pinp/0617/nslice/data_bnb_peleeFilter_uboone_v08_00_00_41_pot_run3_G1_neutrinoselection_filt.root'\n",
    "\n",
    "#EXT\n",
    "EXT_file =   '/uboone/data/users/davidc/searchingfornues/v08_00_00_43/0702/run3/numupresel/data_extbnb_mcc9.1_v08_00_00_25_reco2_G_all_reco2.root'\n",
    "\n",
    "data_file1 = '/uboone/data/users/davidc/searchingfornues/v08_00_00_43/0702/farsidebands/nslice/run3_neutrinoselection_filt_numu_ALL.root'\n",
    "#data_file_sub = '/uboone/data/users/davidc/searchingfornues/v08_00_00_43/0702/run3/data_bnb_mcc9.1_v08_00_00_25_reco2_G1_beam_good_reco2_1e19.root'\n",
    "\n",
    "\n",
    "\n",
    "df_nu_tree_fhc = uproot3.open(loc_file)['nuselection/NeutrinoSelectionFilter']\n",
    "data_tree = uproot3.open(data_file)['nuselection/NeutrinoSelectionFilter']\n",
    "#data_tree1 = uproot3.open(data_file1)['nuselection/NeutrinoSelectionFilter']\n",
    "EXT_tree = uproot3.open(EXT_file)['nuselection/NeutrinoSelectionFilter']\n",
    "#data_tree_sub = uproot3.open(data_file_sub)['nuselection/NeutrinoSelectionFilter']\n",
    "\n",
    "print(df_nu_tree_fhc.keys())\n"
   ]
  },
  {
   "cell_type": "code",
   "execution_count": 49,
   "id": "3930d877",
   "metadata": {},
   "outputs": [],
   "source": [
    "def neutrino_energy(tree):\n",
    "    \n",
    "    trk_energy_tot_unsummed = tree['trk_energy_proton_v'].array()\n",
    "    trk_energy_tot = trk_energy_tot_unsummed.sum()\n",
    "    \n",
    "    variable = ['_opfilter_pe_veto', '_opfilter_pe_beam','trk_energy_proton_v','_closestNuCosmicDist','trk_range_muon_mom_v','trk_mcs_muon_mom_v', 'crtveto','trk_len_v', 'trk_distance_v','category','topological_score','trk_sce_end_z_v','trk_sce_end_y_v','trk_sce_end_x_v','pfp_generation_v','trk_score_v','trk_llr_pid_score_v','trk_sce_start_z_v','trk_sce_start_y_v','trk_sce_start_x_v','reco_nu_vtx_sce_x','reco_nu_vtx_sce_y', 'reco_nu_vtx_sce_z','crtveto','nslice','category','topological_score']\n",
    "    df_frame = tree.pandas.df(variable,flatten=False)\n",
    "   \n",
    "    trk_llr_pid_v = tree[\"trk_llr_pid_score_v\"].array()\n",
    "    trk_score_v = tree[\"trk_score_v\"].array()\n",
    "    trk_len_v   = tree['trk_len_v'].array()\n",
    "    trk_end_x_v = tree['trk_sce_end_x_v'].array()\n",
    "    trk_end_y_v = tree['trk_sce_end_y_v'].array()\n",
    "    trk_end_z_v = tree['trk_sce_end_z_v'].array()\n",
    "    trk_start_x_v = tree['trk_sce_start_x_v'].array()\n",
    "    trk_start_y_v = tree['trk_sce_start_y_v'].array()\n",
    "    trk_start_z_v = tree['trk_sce_start_z_v'].array()\n",
    "    trk_energy_proton_v = tree['trk_energy_proton_v'].array()\n",
    "    trk_range_muon_mom_v = tree['trk_range_muon_mom_v'].array()\n",
    "    trk_mcs_muon_mom_v = tree['trk_mcs_muon_mom_v'].array()\n",
    "    pfp_generation_v = tree['pfp_generation_v'].array()\n",
    "    trk_distance_v  = tree['trk_distance_v'].array()\n",
    "\n",
    "    trk_energy_proton_v = tree['trk_energy_proton_v'].array()\n",
    "    \n",
    "    muon_energy_correction_v = np.sqrt(trk_range_muon_mom_v**2 + 0.105**2) - trk_energy_proton_v\n",
    "\n",
    "    \n",
    "    \n",
    "    muon_mask =  (trk_score_v>0.8) & (trk_llr_pid_v > 0.2) \\\n",
    "                & (trk_start_x_v > 5.) & (trk_start_x_v < 251.) & (trk_end_x_v > 5.) & (trk_end_x_v < 251.) \\\n",
    "                & (trk_start_y_v > -110.) & (trk_start_y_v < 110.) & (trk_end_y_v > -110.) & (trk_end_y_v < 110.) \\\n",
    "                & (trk_start_z_v > 20.) & (trk_start_z_v < 986.) & (trk_end_z_v > 20.) & (trk_end_z_v < 986.) \\\n",
    "                & (trk_len_v > 10) & (trk_distance_v < 4.) & (pfp_generation_v == 2) \\\n",
    "                & ( ( (trk_mcs_muon_mom_v - trk_range_muon_mom_v) / trk_range_muon_mom_v ) > -0.5 ) \\\n",
    "                & ( ( (trk_mcs_muon_mom_v - trk_range_muon_mom_v) / trk_range_muon_mom_v ) < 0.5 ) \n",
    "    \n",
    "    \n",
    " \n",
    "    \n",
    "    total_number_muons = muon_mask.sum()\n",
    "    df_frame['n_tot_muons'] = total_number_muons\n",
    "    muon_idx = index(-1,trk_len_v,muon_mask)\n",
    "    df_frame['trk_energy_tot'] = trk_energy_tot + element_index(muon_energy_correction_v,muon_idx)\n",
    "    \n",
    "    df_frame = df_frame.apply(lambda x: x.explode() if x.name in ['trk_sce_start_x_v','trk_sce_start_y_v','trk_sce_start_z_v','trk_llr_pid_score_v','trk_score_v','pfp_generation_v','trk_sce_end_x_v','trk_sce_end_y_v','trk_sce_end_z_v','trk_energy_proton_v', 'trk_range_muon_mom_v', 'trk_mcs_muon_mom_v', 'trk_len_v', 'trk_distance_v'] else x).reset_index()\n",
    "    df_frame = df_frame.loc[:,~df_frame.columns.duplicated()]\n",
    "    \n",
    "   \n",
    "\n",
    "    pfp_generation_v = df_frame['pfp_generation_v']\n",
    "    reco_x = df_frame['reco_nu_vtx_sce_x']\n",
    "    reco_y = df_frame['reco_nu_vtx_sce_y']\n",
    "    reco_z = df_frame['reco_nu_vtx_sce_z']\n",
    "    crtveto = df_frame['crtveto']\n",
    "    closestNu = df_frame['_closestNuCosmicDist']\n",
    "    trk_energy_total = df_frame['trk_energy_tot']\n",
    "    tot_number_muons = df_frame['n_tot_muons']\n",
    "    nslice = df_frame['nslice']\n",
    "    opfilter_pe_beam = df_frame['_opfilter_pe_beam']\n",
    "    opfilter_pe_veto = df_frame['_opfilter_pe_veto']\n",
    "    topological = df_frame['topological_score']\n",
    "    op_be = df_frame['_opfilter_pe_beam']\n",
    "    op_ve = df_frame['_opfilter_pe_veto']\n",
    "    \n",
    "    \n",
    "    selection =   (nslice == 1)\\\n",
    "                & (reco_x >= 5) & (reco_x <= 251) & (reco_y <= 110) & (reco_y >= -110)\\\n",
    "                & (reco_z <= 986) & (reco_z >= 20) & ((reco_z <675) | (reco_z > 775))\\\n",
    "                & (crtveto != 1) & (closestNu > 5.) & (pfp_generation_v == 2)\\\n",
    "                & (topological > 0.06) & (tot_number_muons > 0)\\\n",
    "                & (trk_energy_total < 1.6) & (op_be>0) & (op_ve<20)\n",
    "    \n",
    "    df_frame = df_frame[selection]\n",
    "    df_frame = df_frame.drop_duplicates(subset='trk_energy_tot', keep=\"last\")\n",
    "    \n",
    "    return df_frame"
   ]
  },
  {
   "cell_type": "code",
   "execution_count": 54,
   "id": "2bfdaaeb",
   "metadata": {},
   "outputs": [],
   "source": [
    "def neutrino_energy_data_EXT(tree):\n",
    "    \n",
    "    trk_energy_tot_unsummed = tree['trk_energy_proton_v'].array()\n",
    "    trk_energy_tot = trk_energy_tot_unsummed.sum()\n",
    "    \n",
    "    variable = ['_opfilter_pe_veto', '_opfilter_pe_beam','trk_energy_proton_v','_closestNuCosmicDist','trk_range_muon_mom_v','trk_mcs_muon_mom_v', 'crtveto','trk_len_v', 'trk_distance_v','category','topological_score','trk_sce_end_z_v','trk_sce_end_y_v','trk_sce_end_x_v','pfp_generation_v','trk_score_v','trk_llr_pid_score_v','trk_sce_start_z_v','trk_sce_start_y_v','trk_sce_start_x_v','reco_nu_vtx_sce_x','reco_nu_vtx_sce_y', 'reco_nu_vtx_sce_z','crtveto','nslice','category','topological_score']\n",
    "    df_frame = tree.pandas.df(variable,flatten=False)\n",
    "   \n",
    "    trk_llr_pid_v = tree[\"trk_llr_pid_score_v\"].array()\n",
    "    trk_score_v = tree[\"trk_score_v\"].array()\n",
    "    trk_len_v   = tree['trk_len_v'].array()\n",
    "    trk_end_x_v = tree['trk_sce_end_x_v'].array()\n",
    "    trk_end_y_v = tree['trk_sce_end_y_v'].array()\n",
    "    trk_end_z_v = tree['trk_sce_end_z_v'].array()\n",
    "    trk_start_x_v = tree['trk_sce_start_x_v'].array()\n",
    "    trk_start_y_v = tree['trk_sce_start_y_v'].array()\n",
    "    trk_start_z_v = tree['trk_sce_start_z_v'].array()\n",
    "    trk_energy_proton_v = tree['trk_energy_proton_v'].array()\n",
    "    trk_range_muon_mom_v = tree['trk_range_muon_mom_v'].array()\n",
    "    trk_mcs_muon_mom_v = tree['trk_mcs_muon_mom_v'].array()\n",
    "    pfp_generation_v = tree['pfp_generation_v'].array()\n",
    "    trk_distance_v  = tree['trk_distance_v'].array()\n",
    "\n",
    "    trk_energy_proton_v = tree['trk_energy_proton_v'].array()\n",
    "    \n",
    "    muon_energy_correction_v = np.sqrt(trk_range_muon_mom_v**2 + 0.105**2) - trk_energy_proton_v\n",
    "\n",
    "    \n",
    "    \n",
    "    muon_mask =   (trk_score_v>0.8) & (trk_llr_pid_v > 0.2) \\\n",
    "                & (trk_start_x_v > 5.) & (trk_start_x_v < 251.) & (trk_end_x_v > 5.) & (trk_end_x_v < 251.) \\\n",
    "                & (trk_start_y_v > -110.) & (trk_start_y_v < 110.) & (trk_end_y_v > -110.) & (trk_end_y_v < 110.) \\\n",
    "                & (trk_start_z_v > 20.) & (trk_start_z_v < 986.) & (trk_end_z_v > 20.) & (trk_end_z_v < 986.) \\\n",
    "                & (trk_len_v > 10) & (trk_distance_v < 4.) & (pfp_generation_v == 2) \\\n",
    "                & ( ( (trk_mcs_muon_mom_v - trk_range_muon_mom_v) / trk_range_muon_mom_v ) > -0.5 ) \\\n",
    "                & ( ( (trk_mcs_muon_mom_v - trk_range_muon_mom_v) / trk_range_muon_mom_v ) < 0.5 ) \n",
    "    \n",
    "    \n",
    " \n",
    "    \n",
    "    total_number_muons = muon_mask.sum()\n",
    "    df_frame['n_tot_muons'] = total_number_muons\n",
    "    muon_idx = index(-1,trk_len_v,muon_mask)\n",
    "    df_frame['trk_energy_tot'] = trk_energy_tot + element_index(muon_energy_correction_v,muon_idx)\n",
    "    \n",
    "    df_frame = df_frame.apply(lambda x: x.explode() if x.name in ['trk_sce_start_x_v','trk_sce_start_y_v','trk_sce_start_z_v','trk_llr_pid_score_v','trk_score_v','pfp_generation_v','trk_sce_end_x_v','trk_sce_end_y_v','trk_sce_end_z_v','trk_energy_proton_v', 'trk_range_muon_mom_v', 'trk_mcs_muon_mom_v', 'trk_len_v', 'trk_distance_v'] else x).reset_index()\n",
    "    df_frame = df_frame.loc[:,~df_frame.columns.duplicated()]\n",
    "    \n",
    "   \n",
    "\n",
    "    pfp_generation_v = df_frame['pfp_generation_v']\n",
    "    reco_x = df_frame['reco_nu_vtx_sce_x']\n",
    "    reco_y = df_frame['reco_nu_vtx_sce_y']\n",
    "    reco_z = df_frame['reco_nu_vtx_sce_z']\n",
    "    crtveto = df_frame['crtveto']\n",
    "    closestNu = df_frame['_closestNuCosmicDist']\n",
    "    trk_energy_total = df_frame['trk_energy_tot']\n",
    "    tot_number_muons = df_frame['n_tot_muons']\n",
    "    nslice = df_frame['nslice']\n",
    "    topological = df_frame['topological_score']\n",
    "    \n",
    "    \n",
    "    selection =   (nslice == 1) & (reco_x >= 5) & (reco_x <= 251)\\\n",
    "                & (reco_y <= 110) & (reco_y >= -110)\\\n",
    "                & (reco_z <= 986) & (reco_z >= 20) & ((reco_z <675) | (reco_z > 775))\\\n",
    "                & (crtveto != 1) & (closestNu > 5.) & (pfp_generation_v == 2)\\\n",
    "                & (topological > 0.06) & (tot_number_muons > 0)\\\n",
    "\n",
    "    \n",
    "    df_frame = df_frame[selection]\n",
    "    df_frame = df_frame.drop_duplicates(subset='trk_energy_tot', keep=\"last\")\n",
    "    \n",
    "    return df_frame"
   ]
  },
  {
   "cell_type": "code",
   "execution_count": 55,
   "id": "b57e4e60",
   "metadata": {},
   "outputs": [
    {
     "name": "stderr",
     "output_type": "stream",
     "text": [
      "/nashome/f/finnerud/.local/lib/python3.9/site-packages/awkward0/array/jagged.py:1043: RuntimeWarning: overflow encountered in power\n",
      "  result = getattr(ufunc, method)(*inputs, **kwargs)\n"
     ]
    }
   ],
   "source": [
    "df_data_EXT = neutrino_energy_data_EXT(EXT_tree)\n",
    "df_data = neutrino_energy(df_nu_tree_fhc)\n",
    "df_data_real = neutrino_energy_data_EXT(data_tree)"
   ]
  },
  {
   "cell_type": "code",
   "execution_count": 63,
   "id": "7ba3d2da",
   "metadata": {},
   "outputs": [
    {
     "data": {
      "text/plain": [
       "13240"
      ]
     },
     "execution_count": 63,
     "metadata": {},
     "output_type": "execute_result"
    },
    {
     "data": {
      "image/png": "[encoded data removed]",
      "text/plain": [
       "<Figure size 576x432 with 1 Axes>"
      ]
     },
     "metadata": {
      "needs_background": "light"
     },
     "output_type": "display_data"
    },
    {
     "data": {
      "image/png": "[encoded data removed]",
      "text/plain": [
       "<Figure size 576x432 with 1 Axes>"
      ]
     },
     "metadata": {
      "needs_background": "light"
     },
     "output_type": "display_data"
    },
    {
     "data": {
      "image/png": "[encoded data removed]",
      "text/plain": [
       "<Figure size 576x432 with 1 Axes>"
      ]
     },
     "metadata": {
      "needs_background": "light"
     },
     "output_type": "display_data"
    }
   ],
   "source": [
    "#this is with full run\n",
    "\n",
    "\n",
    "\n",
    "#Get height of MC bins\n",
    "MC_figure = plt.figure(figsize=(8,6))\n",
    "bins=[0.15,0.25,0.35,0.45,0.55,0.65,0.75,0.85,0.95, 1.05, 1.15, 1.25, 1.35, 1.45, 1.55]\n",
    "MC = sns.histplot(data=df_data, x='trk_energy_tot', bins=bins, color = 'blue', alpha = 0.5, weights = 1/5.25, multiple = \"layer\", palette = 'deep')\n",
    "bins_array = np.array(bins)\n",
    "bins_position = (bins_array[:-1] + bins_array[1:]) / 2\n",
    "MC_bars = MC.patches\n",
    "heights_MC = [patch.get_height() for patch in MC_bars]\n",
    "y = heights_MC[:14]\n",
    "\n",
    "\n",
    "\n",
    "#Get height of bins\n",
    "Real_figure = plt.figure(figsize=(8,6))\n",
    "Data = sns.histplot(data=df_data_real, x='trk_energy_tot', bins=bins, color= 'red', multiple = 'layer', palette = \"Set1\")\n",
    "bars = Data.patches\n",
    "heights = [patch.get_height() for patch in bars]\n",
    "y_real = heights[:14]\n",
    "y_real = np.array(y_real)\n",
    "\n",
    "\n",
    "#Height of bin for EXT file\n",
    "EXT_figure = plt.figure(figsize=(8,6))\n",
    "EXT = sns.histplot(data=df_data_EXT, x='trk_energy_tot', bins=bins, color = 'red', alpha = 0.5, weights = 1/3.88, palette = 'deep')\n",
    "bars = EXT.patches\n",
    "heights_EXT = [patch.get_height() for patch in bars]\n",
    "y_EXT = heights_EXT[:14]\n",
    "\n",
    "MC_EXT_bins = np.add(heights_MC,heights_EXT)\n",
    "\n",
    "np.sum(y_real)\n",
    "\n",
    "\n",
    "\n"
   ]
  },
  {
   "cell_type": "code",
   "execution_count": null,
   "id": "d4921583",
   "metadata": {},
   "outputs": [],
   "source": [
    "def diseppearance(angle, E):\n",
    "    #compute diseppearance fit for neutrinos\n",
    "    # assume delta m = 1ev for now\n",
    "    Prob = (np.sin(2*angle)**2)*(np.sin(1.27*500/E)**2)\n",
    "    \n",
    "    return Prob\n",
    "\n",
    "def process_monte_carlo(bins_heights, angle, position_of_bins):\n",
    "    probability = diseppearance(angle, position_of_bins)\n",
    "    bins_heights_adjusted = (1-probability)*bins_heights\n",
    "    \n",
    "    return bins_heights_adjusted\n",
    "\n",
    "\n",
    "def chi_distance(angle, real_heights, MC_heights, position_of_bins): # compute the chi-squared distance\n",
    "    #probability\n",
    "    probability = diseppearance(angle, position_of_bins)\n",
    "    MC_heights_adjusted = (1-probability)*MC_heights\n",
    "    \n",
    "    chi = 0.5 * np.sum([((a - b) ** 2) / (a + b)\n",
    "                      for (a, b) in zip(real_heights, MC_heights_adjusted)])\n",
    "    return chi\n",
    "\n",
    "test2 = chi_distance(1.4, heights, MC_EXT_bins, bins_position)\n",
    "print(test2)\n",
    "opt.minimize(chi_distance, 2, args=(heights,MC_EXT_bins,bins_position))"
   ]
  },
  {
   "cell_type": "code",
   "execution_count": 53,
   "id": "b59a58fd",
   "metadata": {},
   "outputs": [
    {
     "name": "stdout",
     "output_type": "stream",
     "text": [
      "[0.2 0.3 0.4 0.5 0.6 0.7 0.8 0.9 1.  1.1 1.2 1.3 1.4 1.5]\n",
      "14\n"
     ]
    },
    {
     "data": {
      "image/png": "[encoded data removed]",
      "text/plain": [
       "<Figure size 576x432 with 1 Axes>"
      ]
     },
     "metadata": {
      "needs_background": "light"
     },
     "output_type": "display_data"
    }
   ],
   "source": [
    "# Muon energy \n",
    "\n",
    "\n",
    "#energy_count  = df_data_real['trk_energy_muon_v'].value_counts()\n",
    "\n",
    "# X values\n",
    "x = np.arange(0.2, 1.6, 0.1)\n",
    "# X values for EXT\n",
    "x_EXT = np.arange(0.2, 1.6, 0.1)\n",
    "#Y values for data points\n",
    "print(x)\n",
    "\n",
    "#Y error\n",
    "y_error = np.sqrt(y_real)\n",
    "\n",
    "#figure\n",
    "plt.figure(figsize=(8,6))\n",
    "\n",
    "test1 = sns.histplot(data=df_data, x='trk_energy_tot', hue = \"category\", bins=[0.15,0.25,0.35,0.45,0.55,0.65,0.75,0.85,0.95, 1.05, 1.15, 1.25, 1.35, 1.45, 1.55], color = 'blue', alpha = 0.5, weights = 1/5.254, multiple = \"stack\", palette = 'deep')\n",
    "\n",
    "\n",
    "\n",
    "\n",
    "\n",
    "#MC error\n",
    "MC_y_error = np.sqrt(y)\n",
    "Bottom_MC = [a + b for a, b in zip(y, y_EXT)]\n",
    "\n",
    "print(len(y_EXT))\n",
    "\n",
    "\n",
    "#test2 = sns.histplot(data=df_data_real, x='trk_energy_muon_v', binwidth = 0.1, color = 'blue', alpha = 0.5)\n",
    "\n",
    "\n",
    "\n",
    "\n",
    "\n",
    "\n",
    "\n",
    "\n",
    "#Error on data\n",
    "plt.errorbar(x, y_real , yerr = y_error, xerr=0.05, fmt='.k');\n",
    "\n",
    "#EXT added on top\n",
    "plt.bar(x_EXT, y_EXT, width = 0.1, bottom = y, color='red', alpha=0.2)\n",
    "\n",
    "#Error on MC\n",
    "plt.bar(x, 2*MC_y_error, width = 0.1, bottom = Bottom_MC-MC_y_error, color='gray', alpha=0.2)\n",
    "\n",
    "\n",
    "\n",
    "plt.legend(title='Run1', loc='upper right', labels =['nc pi0', 'v_'r'$\\mu$'' pi0', 'v_e cc 0pi np', 'v_e cc 0pi 0p', 'cosmic', 'neutral current', 'v_'r'$\\mu$', 'ν_e', 'Data', 'EXT', 'Error on MC'])\n",
    "\n",
    "plt.xlabel(\"Reconstructed numu energy (Gev)\")\n",
    "plt.ylabel(\"Events\")\n",
    "\n",
    "\n",
    "plt.savefig('numu_energy.jpg', dpi=300)\n",
    "plt.show()\n"
   ]
  },
  {
   "cell_type": "code",
   "execution_count": null,
   "id": "d643497e",
   "metadata": {},
   "outputs": [],
   "source": []
  }
 ],
 "metadata": {
  "kernelspec": {
   "display_name": "Python 3 (ipykernel)",
   "language": "python",
   "name": "python3"
  },
  "language_info": {
   "codemirror_mode": {
    "name": "ipython",
    "version": 3
   },
   "file_extension": ".py",
   "mimetype": "text/x-python",
   "name": "python",
   "nbconvert_exporter": "python",
   "pygments_lexer": "ipython3",
   "version": "3.9.2"
  }
 },
 "nbformat": 4,
 "nbformat_minor": 5
}
