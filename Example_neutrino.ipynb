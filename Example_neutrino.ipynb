{
 "cells": [
  {
   "cell_type": "markdown",
   "id": "4128ee11",
   "metadata": {},
   "source": [
    "# All imports"
   ]
  },
  {
   "cell_type": "code",
   "execution_count": null,
   "id": "734c5d5b",
   "metadata": {},
   "outputs": [],
   "source": [
    "import numpy as np\n",
    "import uproot3\n",
    "import pickle\n",
    "\n",
    "import pandas as pd\n",
    "\n",
    "import seaborn as sns\n",
    "import matplotlib.pyplot as plt\n",
    "\n",
    "from Neutrino_functions import histogram_plot\n",
    "\n",
    "from math import *\n",
    "import scipy as sci"
   ]
  },
  {
   "cell_type": "markdown",
   "id": "7efe9557",
   "metadata": {},
   "source": [
    "# Loading in the MC file"
   ]
  },
  {
   "cell_type": "code",
   "execution_count": null,
   "id": "9e57e9ea",
   "metadata": {},
   "outputs": [],
   "source": [
    "# MC\n",
    "MC_file = './data/MC_EXT_flattened_1_correct.pkl'\n",
    "\n",
    "# Data\n",
    "data_file = './data/data_frame_flattened_1_correct.pkl'\n",
    "\n",
    "\n",
    "MC_EXT = pd.read_pickle(MC_file)\n",
    "data = pd.read_pickle(data_file)"
   ]
  },
  {
   "cell_type": "markdown",
   "id": "8a2168f5",
   "metadata": {},
   "source": [
    "# Here you can display the data frame"
   ]
  },
  {
   "cell_type": "code",
   "execution_count": null,
   "id": "30e8d9b6",
   "metadata": {},
   "outputs": [],
   "source": [
    "#Un-comment these lines to see the MC dataframe\n",
    "#pd.set_option('display.max_columns', 28)\n",
    "#MC_EXT.head(28)"
   ]
  },
  {
   "cell_type": "markdown",
   "id": "813a9575",
   "metadata": {},
   "source": [
    "# Example cut on the variable 'trk_len_v'"
   ]
  },
  {
   "cell_type": "code",
   "execution_count": null,
   "id": "e81310bf",
   "metadata": {},
   "outputs": [],
   "source": [
    "def Selections(frame):\n",
    "\n",
    "    trk_start_x_v = frame['trk_sce_start_x_v']\n",
    "    trk_start_y_v = frame['trk_sce_start_y_v']\n",
    "    trk_start_z_v = frame['trk_sce_start_z_v']\n",
    "    trk_end_x_v = frame['trk_sce_end_x_v']\n",
    "    trk_end_y_v = frame['trk_sce_end_y_v']\n",
    "    trk_end_z_v = frame['trk_sce_end_z_v'] \n",
    "    reco_x = frame['reco_nu_vtx_sce_x']\n",
    "    reco_y = frame['reco_nu_vtx_sce_y']\n",
    "    reco_z = frame['reco_nu_vtx_sce_z']\n",
    "    topological = frame['topological_score']\n",
    "    trk_score_v = frame['trk_score_v']\n",
    "    trk_dis_v = frame['trk_distance_v']\n",
    "    trk_len_v = frame['trk_len_v']\n",
    "   \n",
    "    \n",
    "    \n",
    "    selection =  (trk_len_v > -1000) & (trk_len_v < 1000) \n",
    "    frame = frame[selection]\n",
    "    \n",
    "    return frame"
   ]
  },
  {
   "cell_type": "markdown",
   "id": "de14ef83",
   "metadata": {},
   "source": [
    "# Calls the selection function"
   ]
  },
  {
   "cell_type": "code",
   "execution_count": null,
   "id": "40099b16",
   "metadata": {},
   "outputs": [],
   "source": [
    "MC_EXT = Selections(MC_EXT)\n",
    "data = Selections(data_frame)"
   ]
  },
  {
   "cell_type": "markdown",
   "id": "befe3b2a",
   "metadata": {},
   "source": [
    "# Font size for plots"
   ]
  },
  {
   "cell_type": "code",
   "execution_count": null,
   "id": "6cd28f72",
   "metadata": {},
   "outputs": [],
   "source": [
    "plt.rcParams.update({'font.size': 25})\n",
    "plt.rcParams.update(\n",
    "    {\n",
    "        'text.usetex': False,\n",
    "        'font.family': 'stixgeneral',\n",
    "        'mathtext.fontset': 'stix',\n",
    "    }\n",
    ")"
   ]
  },
  {
   "cell_type": "markdown",
   "id": "53b8de20",
   "metadata": {},
   "source": [
    "# Uncomment and run this cell to see what inputs the plotting functiont takes"
   ]
  },
  {
   "cell_type": "code",
   "execution_count": null,
   "id": "6d701884",
   "metadata": {},
   "outputs": [],
   "source": [
    "#This command shows what input you should give the plotting function. The inputs with =None can be left out when calling the function\n",
    "#help(Neutrino_functions.histogram_plot)"
   ]
  },
  {
   "cell_type": "markdown",
   "id": "5cc89a9a",
   "metadata": {},
   "source": [
    "# Plot the distribution"
   ]
  },
  {
   "cell_type": "code",
   "execution_count": null,
   "id": "57f5e885",
   "metadata": {},
   "outputs": [],
   "source": [
    "plt.rcParams.update({'font.size': 22})\n",
    "Example_plot = Neutrino_functions.histogram_plot(MC_EXT,'trk_energy_tot', 40, 'test.jpg', MC_EXT['weight'], plot_data = True, dataFrame = data)"
   ]
  }
 ],
 "metadata": {
  "kernelspec": {
   "display_name": "Python 3 (ipykernel)",
   "language": "python",
   "name": "python3"
  },
  "language_info": {
   "codemirror_mode": {
    "name": "ipython",
    "version": 3
   },
   "file_extension": ".py",
   "mimetype": "text/x-python",
   "name": "python",
   "nbconvert_exporter": "python",
   "pygments_lexer": "ipython3",
   "version": "3.9.13"
  }
 },
 "nbformat": 4,
 "nbformat_minor": 5
}
