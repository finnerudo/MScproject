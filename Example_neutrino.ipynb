{
 "cells": [
  {
   "cell_type": "markdown",
   "id": "4128ee11",
   "metadata": {},
   "source": [
    "# All imports"
   ]
  },
  {
   "cell_type": "code",
   "execution_count": null,
   "id": "734c5d5b",
   "metadata": {},
   "outputs": [],
   "source": [
    "import os,sys,string, time\n",
    "import pickle\n",
    "print (sys.version)\n",
    "import ROOT\n",
    "import seaborn as sns\n",
    "from ipynb.fs.full.my_functions import factorial\n",
    "from matplotlib.lines import Line2D\n",
    "from math import *\n",
    "from ROOT import gPad, TTree, TObject, TFile, gDirectory, TH1D, TH2D, TH3D, TCanvas, gROOT, TGaxis, gStyle, TColor, TLegend, THStack, TChain, TLatex, TText, TCollection, kRed, kBlue\n",
    "from array import array\n",
    "import math\n",
    "import matplotlib.pyplot as plt\n",
    "import awkward \n",
    "import plotly.express as px\n",
    "import numpy as np\n",
    "import matplotlib.ticker as tck\n",
    "from numpy import exp,arange\n",
    "from pylab import meshgrid,cm,imshow,contour,clabel,colorbar,axis,title,show    \n",
    "import uproot3\n",
    "import matplotlib.cm as cm\n",
    "import matplotlib.mlab as mlab\n",
    "\n",
    "import pandas as pd\n",
    "\n",
    "from root_pandas import read_root\n",
    "from platform import python_version\n",
    "\n",
    "import scipy as sci\n",
    "from scipy import stats\n",
    "import scipy.optimize as opt"
   ]
  },
  {
   "cell_type": "markdown",
   "id": "7efe9557",
   "metadata": {},
   "source": [
    "# Loading in the MC file"
   ]
  },
  {
   "cell_type": "code",
   "execution_count": null,
   "id": "9e57e9ea",
   "metadata": {},
   "outputs": [],
   "source": [
    "#MC\n",
    "loc_file = '/pc2014-data5/ofinnerud/3rd_yearlab/files/MC_EXT_flattened1.pkl'\n",
    "\n",
    "MC_EXT = pd.read_pickle(loc_file)"
   ]
  },
  {
   "cell_type": "markdown",
   "id": "8a2168f5",
   "metadata": {},
   "source": [
    "# Here you can display the data frame"
   ]
  },
  {
   "cell_type": "code",
   "execution_count": null,
   "id": "30e8d9b6",
   "metadata": {},
   "outputs": [],
   "source": [
    "#Un-comment these lines to see the MC dataframe\n",
    "#pd.set_option('display.max_columns', 28)\n",
    "#MC_EXT.head(28)"
   ]
  },
  {
   "cell_type": "markdown",
   "id": "813a9575",
   "metadata": {},
   "source": [
    "# Example cut on the variable 'trk_len_v'"
   ]
  },
  {
   "cell_type": "code",
   "execution_count": null,
   "id": "e81310bf",
   "metadata": {},
   "outputs": [],
   "source": [
    "trk_len = MC_EXT['trk_len_v']\n",
    "\n",
    "selection = (trk_len>0) \n",
    "\n",
    "MC_EXT = MC_EXT[selection]\n",
    "\n",
    "\n"
   ]
  },
  {
   "cell_type": "markdown",
   "id": "befe3b2a",
   "metadata": {},
   "source": [
    "# Font size for plots"
   ]
  },
  {
   "cell_type": "code",
   "execution_count": null,
   "id": "6cd28f72",
   "metadata": {},
   "outputs": [],
   "source": [
    "plt.rcParams.update({'font.size': 25})\n",
    "plt.rcParams.update(\n",
    "    {\n",
    "        'text.usetex': False,\n",
    "        'font.family': 'stixgeneral',\n",
    "        'mathtext.fontset': 'stix',\n",
    "    }\n",
    ")"
   ]
  },
  {
   "cell_type": "markdown",
   "id": "5cc89a9a",
   "metadata": {},
   "source": [
    "# Plot the distribution"
   ]
  },
  {
   "cell_type": "code",
   "execution_count": null,
   "id": "57f5e885",
   "metadata": {},
   "outputs": [],
   "source": [
    "plt.figure(figsize=(20,15))\n",
    "i = sns.histplot(data=MC_EXT, x=\"reco_nu_vtx_sce_x\", hue=\"category\", multiple=\"stack\", palette = 'deep', weights = MC_EXT['weight'], bins = 250, legend = False)\n",
    "i.set(xlabel=\"Vertex position in x (cm)\", ylabel = \"Events\")\n",
    "plt.xlim([-50, 270])\n",
    "plt.legend(title='Run 3', loc='upper right', labels=[r\"$\\nu$ NC\", r\"$\\nu_{\\mu}$ CC\", r\"$\\nu_e$ CC\", r\"EXT\", r\"Out. fid. vol.\", r\"Cosmic\"])\n",
    "plt.savefig('vertex_x1.jpg', dpi=300)\n",
    "plt.show(i)"
   ]
  }
 ],
 "metadata": {
  "kernelspec": {
   "display_name": "Python 3 (ipykernel)",
   "language": "python",
   "name": "python3"
  },
  "language_info": {
   "codemirror_mode": {
    "name": "ipython",
    "version": 3
   },
   "file_extension": ".py",
   "mimetype": "text/x-python",
   "name": "python",
   "nbconvert_exporter": "python",
   "pygments_lexer": "ipython3",
   "version": "3.9.2"
  }
 },
 "nbformat": 4,
 "nbformat_minor": 5
}
