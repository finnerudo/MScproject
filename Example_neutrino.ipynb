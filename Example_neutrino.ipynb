{
 "cells": [
  {
   "cell_type": "markdown",
   "id": "4128ee11",
   "metadata": {},
   "source": [
    "# All imports"
   ]
  },
  {
   "cell_type": "code",
   "execution_count": 1,
   "id": "734c5d5b",
   "metadata": {},
   "outputs": [
    {
     "name": "stdout",
     "output_type": "stream",
     "text": [
      "3.9.2 (default, Mar  7 2021, 07:53:23) \n",
      "[GCC 4.8.5 20150623 (Red Hat 4.8.5-44)]\n",
      "Welcome to JupyROOT 6.22/08\n"
     ]
    }
   ],
   "source": [
    "import os,sys,string, time\n",
    "import pickle\n",
    "print (sys.version)\n",
    "import ROOT\n",
    "import seaborn as sns\n",
    "from ipynb.fs.full.Neutrino_functions import histogram_plot\n",
    "from matplotlib.lines import Line2D\n",
    "from math import *\n",
    "from ROOT import gPad, TTree, TObject, TFile, gDirectory, TH1D, TH2D, TH3D, TCanvas, gROOT, TGaxis, gStyle, TColor, TLegend, THStack, TChain, TLatex, TText, TCollection, kRed, kBlue\n",
    "from array import array\n",
    "import math\n",
    "import matplotlib.pyplot as plt\n",
    "import awkward \n",
    "import plotly.express as px\n",
    "import numpy as np\n",
    "import matplotlib.ticker as tck\n",
    "from numpy import exp,arange\n",
    "from pylab import meshgrid,cm,imshow,contour,clabel,colorbar,axis,title,show    \n",
    "import uproot3\n",
    "import matplotlib.cm as cm\n",
    "import matplotlib.mlab as mlab\n",
    "\n",
    "import pandas as pd\n",
    "\n",
    "from root_pandas import read_root\n",
    "from platform import python_version\n",
    "\n",
    "import scipy as sci\n",
    "from scipy import stats\n",
    "import scipy.optimize as opt"
   ]
  },
  {
   "cell_type": "markdown",
   "id": "7efe9557",
   "metadata": {},
   "source": [
    "# Loading in the MC file"
   ]
  },
  {
   "cell_type": "code",
   "execution_count": 5,
   "id": "9e57e9ea",
   "metadata": {},
   "outputs": [],
   "source": [
    "#MC\n",
    "loc_file = '/pc2014-data5/ofinnerud/3rd_yearlab/files/MC_EXT_flattened_1_correct.pkl'\n",
    "\n",
    "#Data\n",
    "data_file = '/pc2014-data5/ofinnerud/3rd_year_lab/files/data_flattened_1_correct.pkl'\n"
   ]
  },
  {
   "cell_type": "markdown",
   "id": "8a2168f5",
   "metadata": {},
   "source": [
    "# Here you can display the data frame"
   ]
  },
  {
   "cell_type": "code",
   "execution_count": null,
   "id": "30e8d9b6",
   "metadata": {},
   "outputs": [],
   "source": [
    "#Un-comment these lines to see the MC dataframe\n",
    "#pd.set_option('display.max_columns', 28)\n",
    "#MC_EXT.head(28)"
   ]
  },
  {
   "cell_type": "markdown",
   "id": "813a9575",
   "metadata": {},
   "source": [
    "# Example cut on the variable 'trk_len_v'"
   ]
  },
  {
   "cell_type": "code",
   "execution_count": 6,
   "id": "e81310bf",
   "metadata": {},
   "outputs": [],
   "source": [
    "def Selections(frame):\n",
    "\n",
    "    trk_start_x_v = frame['trk_sce_start_x_v']\n",
    "    trk_start_y_v = frame['trk_sce_start_y_v']\n",
    "    trk_start_z_v = frame['trk_sce_start_z_v']\n",
    "    trk_end_x_v = frame['trk_sce_end_x_v']\n",
    "    trk_end_y_v = frame['trk_sce_end_y_v']\n",
    "    trk_end_z_v = frame['trk_sce_end_z_v'] \n",
    "    reco_x = frame['reco_nu_vtx_sce_x']\n",
    "    reco_y = frame['reco_nu_vtx_sce_y']\n",
    "    reco_z = frame['reco_nu_vtx_sce_z']\n",
    "    topological = frame['topological_score']\n",
    "    trk_score_v = frame['trk_score_v']\n",
    "    trk_dis_v = frame['trk_distance_v']\n",
    "    trk_len_v = frame['trk_len_v']\n",
    "   \n",
    "    \n",
    "    \n",
    "    selection =  (trk_len_v > -1000) & (trk_len_v < 1000) \n",
    "    frame = frame[selection]\n",
    "    \n",
    "    return frame"
   ]
  },
  {
   "cell_type": "markdown",
   "id": "de14ef83",
   "metadata": {},
   "source": [
    "# Calls the selection function"
   ]
  },
  {
   "cell_type": "code",
   "execution_count": 7,
   "id": "40099b16",
   "metadata": {},
   "outputs": [],
   "source": [
    "MC_EXT = Selections(MC_EXT)\n",
    "data_frame = Selections(data_frame)"
   ]
  },
  {
   "cell_type": "markdown",
   "id": "befe3b2a",
   "metadata": {},
   "source": [
    "# Font size for plots"
   ]
  },
  {
   "cell_type": "code",
   "execution_count": null,
   "id": "6cd28f72",
   "metadata": {},
   "outputs": [],
   "source": [
    "plt.rcParams.update({'font.size': 25})\n",
    "plt.rcParams.update(\n",
    "    {\n",
    "        'text.usetex': False,\n",
    "        'font.family': 'stixgeneral',\n",
    "        'mathtext.fontset': 'stix',\n",
    "    }\n",
    ")"
   ]
  },
  {
   "cell_type": "markdown",
   "id": "53b8de20",
   "metadata": {},
   "source": [
    "# Uncomment and run this cell to see what inputs the plotting functiont takes"
   ]
  },
  {
   "cell_type": "code",
   "execution_count": 8,
   "id": "6d701884",
   "metadata": {},
   "outputs": [
    {
     "name": "stdout",
     "output_type": "stream",
     "text": [
      "Help on function histogram_plot in module ipynb.fs.full.Neutrino_functions:\n",
      "\n",
      "histogram_plot(MC_frame, variable, bins, name, scaling, plot_data=None, logscale=None, dataFrame=None)\n",
      "\n"
     ]
    }
   ],
   "source": [
    "#This command shows what input you should give the plotting function. The inputs with =None can be left out when calling the function\n",
    "#help(histogram_plot)"
   ]
  },
  {
   "cell_type": "markdown",
   "id": "5cc89a9a",
   "metadata": {},
   "source": [
    "# Plot the distribution"
   ]
  },
  {
   "cell_type": "code",
   "execution_count": null,
   "id": "57f5e885",
   "metadata": {},
   "outputs": [],
   "source": [
    "plt.rcParams.update({'font.size': 22})\n",
    "Example_plot = histogram_plot(MC_EXT,'trk_energy_tot', 40, 'test.jpg', MC_EXT['weight'], plot_data = True, dataFrame = data_frame)"
   ]
  }
 ],
 "metadata": {
  "kernelspec": {
   "display_name": "Python 3 (ipykernel)",
   "language": "python",
   "name": "python3"
  },
  "language_info": {
   "codemirror_mode": {
    "name": "ipython",
    "version": 3
   },
   "file_extension": ".py",
   "mimetype": "text/x-python",
   "name": "python",
   "nbconvert_exporter": "python",
   "pygments_lexer": "ipython3",
   "version": "3.9.2"
  }
 },
 "nbformat": 4,
 "nbformat_minor": 5
}
