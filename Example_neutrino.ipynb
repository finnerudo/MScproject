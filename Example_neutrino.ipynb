{
 "cells": [
  {
   "cell_type": "markdown",
   "id": "4128ee11",
   "metadata": {},
   "source": [
    "# All imports"
   ]
  },
  {
   "cell_type": "code",
   "execution_count": 2,
   "id": "734c5d5b",
   "metadata": {},
   "outputs": [],
   "source": [
    "import numpy as np\n",
    "import uproot3\n",
    "import pickle\n",
    "\n",
    "import pandas as pd\n",
    "\n",
    "import seaborn as sns\n",
    "import matplotlib.pyplot as plt\n",
    "\n",
    "import Neutrino_functions\n",
    "\n",
    "from math import *\n",
    "import scipy as sci"
   ]
  },
  {
   "cell_type": "markdown",
   "id": "7efe9557",
   "metadata": {},
   "source": [
    "# Loading in the MC file"
   ]
  },
  {
   "cell_type": "code",
   "execution_count": null,
   "id": "9e57e9ea",
   "metadata": {},
   "outputs": [],
   "source": [
    "# MC\n",
    "MC_file = './Files/MC_EXT_flattened.pkl'\n",
    "\n",
    "# Data\n",
    "data_file = './Files/data_flattened.pkl'\n",
    "\n",
    "\n",
    "MC_EXT = pd.read_pickle(MC_file)\n",
    "data = pd.read_pickle(data_file)"
   ]
  },
  {
   "cell_type": "markdown",
   "id": "8a2168f5",
   "metadata": {},
   "source": [
    "# Here you can display the data frame"
   ]
  },
  {
   "cell_type": "code",
   "execution_count": null,
   "id": "30e8d9b6",
   "metadata": {},
   "outputs": [],
   "source": [
    "#Un-comment these lines to see the MC dataframe\n",
    "#pd.set_option('display.max_columns', 28)\n",
    "MC_EXT.head(28)"
   ]
  },
  {
   "cell_type": "markdown",
   "id": "813a9575",
   "metadata": {},
   "source": [
    "# Example cut on the variable 'trk_len_v'"
   ]
  },
  {
   "cell_type": "code",
   "execution_count": null,
   "id": "e81310bf",
   "metadata": {},
   "outputs": [],
   "source": [
    "def Selections(frame):\n",
    "\n",
    "    trk_start_x_v = frame['trk_sce_start_x_v']\n",
    "    trk_start_y_v = frame['trk_sce_start_y_v']\n",
    "    trk_start_z_v = frame['trk_sce_start_z_v']\n",
    "    trk_end_x_v = frame['trk_sce_end_x_v']\n",
    "    trk_end_y_v = frame['trk_sce_end_y_v']\n",
    "    trk_end_z_v = frame['trk_sce_end_z_v'] \n",
    "    reco_x = frame['reco_nu_vtx_sce_x']\n",
    "    reco_y = frame['reco_nu_vtx_sce_y']\n",
    "    reco_z = frame['reco_nu_vtx_sce_z']\n",
    "    topological = frame['topological_score']\n",
    "    trk_score_v = frame['trk_score_v']\n",
    "    trk_dis_v = frame['trk_distance_v']\n",
    "    trk_len_v = frame['trk_len_v']\n",
    "   \n",
    "    \n",
    "    \n",
    "    selection =  (trk_len_v > -1000) & (trk_len_v < 1000) \n",
    "    frame = frame[selection]\n",
    "    \n",
    "    return frame"
   ]
  },
  {
   "cell_type": "markdown",
   "id": "de14ef83",
   "metadata": {},
   "source": [
    "# Calls the selection function"
   ]
  },
  {
   "cell_type": "code",
   "execution_count": null,
   "id": "40099b16",
   "metadata": {},
   "outputs": [],
   "source": [
    "MC_EXT = Selections(MC_EXT)\n",
    "data = Selections(data)"
   ]
  },
  {
   "cell_type": "markdown",
   "id": "53b8de20",
   "metadata": {},
   "source": [
    "# Uncomment and run this cell to see what inputs the plotting functiont takes"
   ]
  },
  {
   "cell_type": "code",
   "execution_count": 2,
   "id": "6d701884",
   "metadata": {},
   "outputs": [
    {
     "ename": "NameError",
     "evalue": "name 'Neutrino_functions' is not defined",
     "output_type": "error",
     "traceback": [
      "\u001b[0;31m---------------------------------------------------------------------------\u001b[0m",
      "\u001b[0;31mNameError\u001b[0m                                 Traceback (most recent call last)",
      "Input \u001b[0;32mIn [2]\u001b[0m, in \u001b[0;36m<cell line: 2>\u001b[0;34m()\u001b[0m\n\u001b[1;32m      1\u001b[0m \u001b[38;5;66;03m#This command shows what input you should give the plotting function. The inputs with =None can be left out when calling the function\u001b[39;00m\n\u001b[0;32m----> 2\u001b[0m help(\u001b[43mNeutrino_functions\u001b[49m\u001b[38;5;241m.\u001b[39mhistogram_plot)\n",
      "\u001b[0;31mNameError\u001b[0m: name 'Neutrino_functions' is not defined"
     ]
    }
   ],
   "source": [
    "#This command shows what input you should give the plotting function. The inputs with =None can be left out when calling the function\n",
    "help(Neutrino_functions.histogram_plot)"
   ]
  },
  {
   "cell_type": "markdown",
   "id": "5cc89a9a",
   "metadata": {},
   "source": [
    "# Plot the distribution"
   ]
  },
  {
   "cell_type": "code",
   "execution_count": 7,
   "id": "62221079-2e64-4384-a6d9-2a972e333409",
   "metadata": {},
   "outputs": [],
   "source": [
    "def histogram_plot(MC_frame, variable, bins, name, scaling, xlims=[], plot_data = False, logscale = None, dataFrame = None):\n",
    "    \"\"\"\n",
    "    MC_frame: pandas dataframe - MC dataframe\n",
    "    variable: string - name of the variable\n",
    "    bins: int - number of bins\n",
    "    name: string - name of the plot. The plot is saved\n",
    "    scaling: array/list - weights you want to apply on MC data\n",
    "    plot_data: boolean - \n",
    "    \"\"\"    \n",
    "    #x = 0.5*(bins[1:]+ bins[:-1])\n",
    "    \n",
    "    MC_frame = MC_frame[MC_frame['Subevent'] == 0]\n",
    "\n",
    "    fig = plt.figure(figsize=(15,10))\n",
    "        \n",
    "    labels=[r\"$\\nu$ NC\", r\"$\\nu_{\\mu}$ CC\", r\"$\\nu_e$ CC\", r\"EXT\", r\"Out. fid. vol.\", r\"Cosmic\"]\n",
    "    sns.histplot(data=MC_frame, x= variable , hue=\"category\", multiple=\"stack\", palette = 'deep', weights = scaling, bins=bins, \n",
    "                 binrange=xlims, legend = False, log_scale=logscale)\n",
    "        \n",
    "    plt.legend(title='Run 3', loc='upper right', labels=[r\"$\\nu$ NC\", r\"$\\nu_{\\mu}$ CC\", r\"$\\nu_e$ CC\", r\"EXT\", r\"Out. fid. vol.\", r\"Cosmic\"])\n",
    "    \n",
    "    if (isinstance(dataFrame,pd.core.frame.DataFrame) and plot_data == True):\n",
    "        dataFrame = dataFrame[dataFrame['Subevent'] == 0]\n",
    "        fig_data = plt.figure(figsize=(15,10))\n",
    "        Data_fig = sns.histplot(data=dataFrame, x=variable, bins=bins, binrange=xlims, legend = False, log_scale=logscale)\n",
    "        bars = Data_fig.patches\n",
    "        \n",
    "        heights = [patch.get_height() for patch in bars]\n",
    "        x = [patch.get_x() for patch in bars]\n",
    "        w = [patch.get_width() for patch in bars]\n",
    "        plt.close(fig_data)\n",
    "        del x[-1]\n",
    "        del heights[-1]\n",
    "        new_bins = [start+w[0]/2 for start in x]\n",
    "        #y_real = np.array(y_real)\n",
    "        plt.errorbar(new_bins, heights , xerr=w[0]/2, fmt='.k')\n",
    "    \n",
    "    elif(isinstance(dataFrame,pd.core.frame.DataFrame) != True and plot_data == True):\n",
    "        print(\"\\\"dataFrame\\\" argument needs to be a pandas dataframe.\" + \"\\n\" + \"Just plotting Monte Carlo.\")\n",
    "    \n",
    "    if variable == 'trk_energy_tot':\n",
    "            variable = r\"Reconstructed $\\nu_{\\mu}$ energy (Gev)\"\n",
    "    \n",
    "    plt.xlabel(variable,fontsize = 20)\n",
    "    plt.ylabel(\"Events\",fontsize = 20)\n",
    "    plt.xticks(fontsize=18)\n",
    "    plt.yticks(fontsize=18)\n",
    "    plt.savefig(name+'.jpg', dpi=300) \n",
    "    plt.show()\n",
    "   "
   ]
  },
  {
   "cell_type": "code",
   "execution_count": 9,
   "id": "57f5e885",
   "metadata": {},
   "outputs": [
    {
     "ename": "TypeError",
     "evalue": "string indices must be integers",
     "output_type": "error",
     "traceback": [
      "\u001b[0;31m---------------------------------------------------------------------------\u001b[0m",
      "\u001b[0;31mTypeError\u001b[0m                                 Traceback (most recent call last)",
      "Input \u001b[0;32mIn [9]\u001b[0m, in \u001b[0;36m<cell line: 2>\u001b[0;34m()\u001b[0m\n\u001b[1;32m      1\u001b[0m \u001b[38;5;66;03m#Example_plot = histogram_plot(MC_EXT,'trk_energy_tot', 40, 'test', MC_EXT['weight'], xlims = [0,3.0], plot_data = True, dataFrame = data)\u001b[39;00m\n\u001b[0;32m----> 2\u001b[0m Example_plot \u001b[38;5;241m=\u001b[39m \u001b[43mNeutrino_functions\u001b[49m\u001b[38;5;241;43m.\u001b[39;49m\u001b[43mhistogram_plot\u001b[49m\u001b[43m(\u001b[49m\u001b[38;5;124;43m\"\u001b[39;49m\u001b[38;5;124;43mno\u001b[39;49m\u001b[38;5;124;43m\"\u001b[39;49m\u001b[43m,\u001b[49m\u001b[38;5;124;43m'\u001b[39;49m\u001b[38;5;124;43mtrk_energy_tot\u001b[39;49m\u001b[38;5;124;43m'\u001b[39;49m\u001b[43m,\u001b[49m\u001b[43m \u001b[49m\u001b[38;5;241;43m40\u001b[39;49m\u001b[43m,\u001b[49m\u001b[43m \u001b[49m\u001b[38;5;124;43m'\u001b[39;49m\u001b[38;5;124;43mtest\u001b[39;49m\u001b[38;5;124;43m'\u001b[39;49m\u001b[43m,\u001b[49m\u001b[43m \u001b[49m\u001b[43mMC_EXT\u001b[49m\u001b[43m[\u001b[49m\u001b[38;5;124;43m'\u001b[39;49m\u001b[38;5;124;43mweight\u001b[39;49m\u001b[38;5;124;43m'\u001b[39;49m\u001b[43m]\u001b[49m\u001b[43m,\u001b[49m\u001b[43m \u001b[49m\u001b[43mxlims\u001b[49m\u001b[43m \u001b[49m\u001b[38;5;241;43m=\u001b[39;49m\u001b[43m \u001b[49m\u001b[43m[\u001b[49m\u001b[38;5;241;43m0\u001b[39;49m\u001b[43m,\u001b[49m\u001b[38;5;241;43m3.0\u001b[39;49m\u001b[43m]\u001b[49m\u001b[43m,\u001b[49m\u001b[43m \u001b[49m\u001b[43mplot_data\u001b[49m\u001b[43m \u001b[49m\u001b[38;5;241;43m=\u001b[39;49m\u001b[43m \u001b[49m\u001b[38;5;28;43;01mFalse\u001b[39;49;00m\u001b[43m,\u001b[49m\u001b[43m \u001b[49m\u001b[43mdataFrame\u001b[49m\u001b[43m \u001b[49m\u001b[38;5;241;43m=\u001b[39;49m\u001b[43m \u001b[49m\u001b[43mdata\u001b[49m\u001b[43m)\u001b[49m\n\u001b[1;32m      4\u001b[0m plotting_params \u001b[38;5;241m=\u001b[39m {\n\u001b[1;32m      5\u001b[0m         \u001b[38;5;124m'\u001b[39m\u001b[38;5;124mfont.size\u001b[39m\u001b[38;5;124m'\u001b[39m: \u001b[38;5;241m28\u001b[39m,\n\u001b[1;32m      6\u001b[0m         \u001b[38;5;124m'\u001b[39m\u001b[38;5;124mtext.usetex\u001b[39m\u001b[38;5;124m'\u001b[39m: \u001b[38;5;28;01mFalse\u001b[39;00m,\n\u001b[1;32m      7\u001b[0m         \u001b[38;5;124m'\u001b[39m\u001b[38;5;124mfont.family\u001b[39m\u001b[38;5;124m'\u001b[39m: \u001b[38;5;124m'\u001b[39m\u001b[38;5;124mstixgeneral\u001b[39m\u001b[38;5;124m'\u001b[39m,\n\u001b[1;32m      8\u001b[0m         \u001b[38;5;124m'\u001b[39m\u001b[38;5;124mmathtext.fontset\u001b[39m\u001b[38;5;124m'\u001b[39m: \u001b[38;5;124m'\u001b[39m\u001b[38;5;124mstix\u001b[39m\u001b[38;5;124m'\u001b[39m,\n\u001b[1;32m      9\u001b[0m     }\n\u001b[1;32m     11\u001b[0m plt\u001b[38;5;241m.\u001b[39mrcParams\u001b[38;5;241m.\u001b[39mupdate(plotting_params)\n",
      "File \u001b[0;32m~/Microboone/3rd_yr_lab/July_test/MScproject/Neutrino_functions.py:23\u001b[0m, in \u001b[0;36mhistogram_plot\u001b[0;34m(MC_frame, variable, bins, name, scaling, xlims, plot_data, logscale, dataFrame)\u001b[0m\n\u001b[1;32m     20\u001b[0m     \u001b[38;5;28mprint\u001b[39m(\u001b[38;5;124m\"\u001b[39m\u001b[38;5;130;01m\\\"\u001b[39;00m\u001b[38;5;124mMC_frame\u001b[39m\u001b[38;5;130;01m\\\"\u001b[39;00m\u001b[38;5;124m argument needs to be a pandas dataframe. Cannot plot.\u001b[39m\u001b[38;5;124m\"\u001b[39m)\n\u001b[1;32m     21\u001b[0m     \u001b[38;5;28;01mreturn\u001b[39;00m \u001b[38;5;241m0\u001b[39m\n\u001b[0;32m---> 23\u001b[0m MC_frame \u001b[38;5;241m=\u001b[39m MC_frame[\u001b[43mMC_frame\u001b[49m\u001b[43m[\u001b[49m\u001b[38;5;124;43m'\u001b[39;49m\u001b[38;5;124;43mSubevent\u001b[39;49m\u001b[38;5;124;43m'\u001b[39;49m\u001b[43m]\u001b[49m \u001b[38;5;241m==\u001b[39m \u001b[38;5;241m0\u001b[39m]\n\u001b[1;32m     25\u001b[0m fig \u001b[38;5;241m=\u001b[39m plt\u001b[38;5;241m.\u001b[39mfigure(figsize\u001b[38;5;241m=\u001b[39m(\u001b[38;5;241m15\u001b[39m,\u001b[38;5;241m10\u001b[39m))\n\u001b[1;32m     27\u001b[0m labels\u001b[38;5;241m=\u001b[39m[\u001b[38;5;124mr\u001b[39m\u001b[38;5;124m\"\u001b[39m\u001b[38;5;124m$\u001b[39m\u001b[38;5;124m\\\u001b[39m\u001b[38;5;124mnu$ NC\u001b[39m\u001b[38;5;124m\"\u001b[39m, \u001b[38;5;124mr\u001b[39m\u001b[38;5;124m\"\u001b[39m\u001b[38;5;124m$\u001b[39m\u001b[38;5;124m\\\u001b[39m\u001b[38;5;124mnu_\u001b[39m\u001b[38;5;124m{\u001b[39m\u001b[38;5;124m\\\u001b[39m\u001b[38;5;124mmu}$ CC\u001b[39m\u001b[38;5;124m\"\u001b[39m, \u001b[38;5;124mr\u001b[39m\u001b[38;5;124m\"\u001b[39m\u001b[38;5;124m$\u001b[39m\u001b[38;5;124m\\\u001b[39m\u001b[38;5;124mnu_e$ CC\u001b[39m\u001b[38;5;124m\"\u001b[39m, \u001b[38;5;124mr\u001b[39m\u001b[38;5;124m\"\u001b[39m\u001b[38;5;124mEXT\u001b[39m\u001b[38;5;124m\"\u001b[39m, \u001b[38;5;124mr\u001b[39m\u001b[38;5;124m\"\u001b[39m\u001b[38;5;124mOut. fid. vol.\u001b[39m\u001b[38;5;124m\"\u001b[39m, \u001b[38;5;124mr\u001b[39m\u001b[38;5;124m\"\u001b[39m\u001b[38;5;124mCosmic\u001b[39m\u001b[38;5;124m\"\u001b[39m]\n",
      "\u001b[0;31mTypeError\u001b[0m: string indices must be integers"
     ]
    }
   ],
   "source": [
    "#Example_plot = histogram_plot(MC_EXT,'trk_energy_tot', 40, 'test', MC_EXT['weight'], xlims = [0,3.0], plot_data = True, dataFrame = data)\n",
    "Example_plot = Neutrino_functions.histogram_plot(\"no\",'trk_energy_tot', 40, 'test', MC_EXT['weight'], xlims = [0,3.0], plot_data = False, dataFrame = data)\n",
    "\n",
    "plotting_params = {\n",
    "        'font.size': 28,\n",
    "        'text.usetex': False,\n",
    "        'font.family': 'stixgeneral',\n",
    "        'mathtext.fontset': 'stix',\n",
    "    }\n",
    "\n",
    "plt.rcParams.update(plotting_params)"
   ]
  },
  {
   "cell_type": "code",
   "execution_count": 29,
   "id": "b27e1ebf-047b-4578-b607-9fcafb29e9f6",
   "metadata": {},
   "outputs": [
    {
     "name": "stdout",
     "output_type": "stream",
     "text": [
      "<class 'pandas.core.frame.DataFrame'>\n",
      "True\n",
      "False\n"
     ]
    }
   ],
   "source": [
    "print(type(data))\n",
    "print(isinstance(data,pd.core.frame.DataFrame))\n",
    "print(isinstance(data,list))"
   ]
  },
  {
   "cell_type": "code",
   "execution_count": null,
   "id": "3b148ca5-2af4-4405-968b-2d724a318e9e",
   "metadata": {},
   "outputs": [],
   "source": []
  }
 ],
 "metadata": {
  "kernelspec": {
   "display_name": "Python 3 (ipykernel)",
   "language": "python",
   "name": "python3"
  },
  "language_info": {
   "codemirror_mode": {
    "name": "ipython",
    "version": 3
   },
   "file_extension": ".py",
   "mimetype": "text/x-python",
   "name": "python",
   "nbconvert_exporter": "python",
   "pygments_lexer": "ipython3",
   "version": "3.9.13"
  }
 },
 "nbformat": 4,
 "nbformat_minor": 5
}
