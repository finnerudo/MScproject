{
 "cells": [
  {
   "cell_type": "markdown",
   "id": "8adfb894",
   "metadata": {},
   "source": [
    "# About this Notebook\n",
    "\n",
    "This is a Python notebook. This is the notebook you'll use to run and create the analysis code on pickle data sets. Pickle files are created and premanufactured from ROOT files from MicroBooNE LAr experiment.\n",
    "\n",
    "You should have access to: example_neutrino.ipynb, neutrino_function.py, data folder. You are free to modify neutrino_function.py or create your own plotting functions.\n",
    "\n",
    "**IMPORTANT:** It is strongly recommended that only **one** student of a lab pair should edit this notebook and the files contained within the server directories. This is because both students cannot see the same live edit of the notebook or files at the same time, and it is easy to accidently overwrite each other."
   ]
  },
  {
   "cell_type": "markdown",
   "id": "188d3680",
   "metadata": {},
   "source": [
    "# All imports"
   ]
  },
  {
   "cell_type": "markdown",
   "id": "6da8b4ad",
   "metadata": {},
   "source": [
    "The basic libraries, you may import more if there are present on the server's environment"
   ]
  },
  {
   "cell_type": "code",
   "execution_count": 1,
   "id": "c274bcaa",
   "metadata": {},
   "outputs": [],
   "source": [
    "import numpy as np\n",
    "import uproot3\n",
    "import pickle\n",
    "\n",
    "import pandas as pd\n",
    "\n",
    "import seaborn as sns\n",
    "import matplotlib.pyplot as plt\n",
    "\n",
    "import Neutrino_functions\n",
    "\n",
    "from math import *\n",
    "import scipy as sci"
   ]
  },
  {
   "cell_type": "markdown",
   "id": "b8763c16",
   "metadata": {},
   "source": [
    "# Opening the MC and data frames"
   ]
  },
  {
   "cell_type": "code",
   "execution_count": 2,
   "id": "3253e456",
   "metadata": {},
   "outputs": [],
   "source": [
    "# MC\n",
    "MC_file = './data/MC_EXT_flattened.pkl'\n",
    "\n",
    "# Data\n",
    "data_file = './data/data_flattened.pkl'\n",
    "\n",
    "\n",
    "# Open file as pandas dataframe\n",
    "MC_EXT = pd.read_pickle(MC_file)\n",
    "data = pd.read_pickle(data_file)"
   ]
  },
  {
   "cell_type": "markdown",
   "id": "5ce55e3d",
   "metadata": {},
   "source": [
    "# You can display the dataframe by uncommenting these lines and running the cell"
   ]
  },
  {
   "cell_type": "code",
   "execution_count": 3,
   "id": "dfa15883",
   "metadata": {},
   "outputs": [
    {
     "data": {
      "text/html": [
       "<div>\n",
       "<style scoped>\n",
       "    .dataframe tbody tr th:only-of-type {\n",
       "        vertical-align: middle;\n",
       "    }\n",
       "\n",
       "    .dataframe tbody tr th {\n",
       "        vertical-align: top;\n",
       "    }\n",
       "\n",
       "    .dataframe thead th {\n",
       "        text-align: right;\n",
       "    }\n",
       "</style>\n",
       "<table border=\"1\" class=\"dataframe\">\n",
       "  <thead>\n",
       "    <tr style=\"text-align: right;\">\n",
       "      <th></th>\n",
       "      <th>_closestNuCosmicDist</th>\n",
       "      <th>trk_len_v</th>\n",
       "      <th>trk_distance_v</th>\n",
       "      <th>category</th>\n",
       "      <th>topological_score</th>\n",
       "      <th>trk_sce_end_z_v</th>\n",
       "      <th>trk_sce_end_y_v</th>\n",
       "      <th>trk_sce_end_x_v</th>\n",
       "      <th>trk_score_v</th>\n",
       "      <th>trk_llr_pid_score_v</th>\n",
       "      <th>trk_sce_start_z_v</th>\n",
       "      <th>trk_sce_start_y_v</th>\n",
       "      <th>trk_sce_start_x_v</th>\n",
       "      <th>reco_nu_vtx_sce_x</th>\n",
       "      <th>reco_nu_vtx_sce_y</th>\n",
       "      <th>reco_nu_vtx_sce_z</th>\n",
       "      <th>trk_energy_tot</th>\n",
       "      <th>Subevent</th>\n",
       "    </tr>\n",
       "  </thead>\n",
       "  <tbody>\n",
       "    <tr>\n",
       "      <th>0</th>\n",
       "      <td>48.170196</td>\n",
       "      <td>230.178085</td>\n",
       "      <td>0.289455</td>\n",
       "      <td>0</td>\n",
       "      <td>0.932121</td>\n",
       "      <td>662.713745</td>\n",
       "      <td>-10.419758</td>\n",
       "      <td>0.564317</td>\n",
       "      <td>1.0</td>\n",
       "      <td>0.981798</td>\n",
       "      <td>443.558472</td>\n",
       "      <td>-71.411057</td>\n",
       "      <td>32.10228</td>\n",
       "      <td>32.137272</td>\n",
       "      <td>-71.675980</td>\n",
       "      <td>443.439148</td>\n",
       "      <td>10000.021584</td>\n",
       "      <td>0</td>\n",
       "    </tr>\n",
       "    <tr>\n",
       "      <th>1</th>\n",
       "      <td>48.170196</td>\n",
       "      <td>19.862617</td>\n",
       "      <td>20.065849</td>\n",
       "      <td>0</td>\n",
       "      <td>0.932121</td>\n",
       "      <td>467.605438</td>\n",
       "      <td>-41.015533</td>\n",
       "      <td>40.286861</td>\n",
       "      <td>0.460725</td>\n",
       "      <td>0.722245</td>\n",
       "      <td>455.0065</td>\n",
       "      <td>-55.723381</td>\n",
       "      <td>36.461731</td>\n",
       "      <td>32.137272</td>\n",
       "      <td>-71.675980</td>\n",
       "      <td>443.439148</td>\n",
       "      <td>10000.021584</td>\n",
       "      <td>1</td>\n",
       "    </tr>\n",
       "    <tr>\n",
       "      <th>3</th>\n",
       "      <td>177.083498</td>\n",
       "      <td>174.338699</td>\n",
       "      <td>0.057629</td>\n",
       "      <td>0</td>\n",
       "      <td>0.588847</td>\n",
       "      <td>978.765259</td>\n",
       "      <td>9.115969</td>\n",
       "      <td>153.437668</td>\n",
       "      <td>0.999995</td>\n",
       "      <td>0.970214</td>\n",
       "      <td>852.828674</td>\n",
       "      <td>-36.029785</td>\n",
       "      <td>42.856102</td>\n",
       "      <td>42.869896</td>\n",
       "      <td>-35.978130</td>\n",
       "      <td>852.848938</td>\n",
       "      <td>0.629191</td>\n",
       "      <td>0</td>\n",
       "    </tr>\n",
       "    <tr>\n",
       "      <th>10</th>\n",
       "      <td>0.067737</td>\n",
       "      <td>264.553223</td>\n",
       "      <td>196.515564</td>\n",
       "      <td>0</td>\n",
       "      <td>0.002079</td>\n",
       "      <td>998.799072</td>\n",
       "      <td>18.552534</td>\n",
       "      <td>225.164139</td>\n",
       "      <td>1.0</td>\n",
       "      <td>0.977688</td>\n",
       "      <td>797.282776</td>\n",
       "      <td>63.213791</td>\n",
       "      <td>63.001648</td>\n",
       "      <td>160.463943</td>\n",
       "      <td>-113.297066</td>\n",
       "      <td>772.441833</td>\n",
       "      <td>10000.778217</td>\n",
       "      <td>0</td>\n",
       "    </tr>\n",
       "    <tr>\n",
       "      <th>11</th>\n",
       "      <td>36.361293</td>\n",
       "      <td>493.096283</td>\n",
       "      <td>0.465464</td>\n",
       "      <td>0</td>\n",
       "      <td>0.983048</td>\n",
       "      <td>865.795166</td>\n",
       "      <td>-56.678547</td>\n",
       "      <td>80.313004</td>\n",
       "      <td>1.0</td>\n",
       "      <td>0.990403</td>\n",
       "      <td>408.639801</td>\n",
       "      <td>96.316406</td>\n",
       "      <td>141.032898</td>\n",
       "      <td>141.039246</td>\n",
       "      <td>96.385994</td>\n",
       "      <td>408.178772</td>\n",
       "      <td>1.296849</td>\n",
       "      <td>0</td>\n",
       "    </tr>\n",
       "    <tr>\n",
       "      <th>13</th>\n",
       "      <td>127.613429</td>\n",
       "      <td>181.327194</td>\n",
       "      <td>0.272344</td>\n",
       "      <td>0</td>\n",
       "      <td>0.021950</td>\n",
       "      <td>264.979065</td>\n",
       "      <td>92.158607</td>\n",
       "      <td>255.202988</td>\n",
       "      <td>0.999972</td>\n",
       "      <td>0.958479</td>\n",
       "      <td>230.559982</td>\n",
       "      <td>-81.870941</td>\n",
       "      <td>221.46637</td>\n",
       "      <td>221.349503</td>\n",
       "      <td>-81.868439</td>\n",
       "      <td>230.311829</td>\n",
       "      <td>9999.794868</td>\n",
       "      <td>0</td>\n",
       "    </tr>\n",
       "    <tr>\n",
       "      <th>14</th>\n",
       "      <td>127.613429</td>\n",
       "      <td>10.863928</td>\n",
       "      <td>0.334015</td>\n",
       "      <td>0</td>\n",
       "      <td>0.021950</td>\n",
       "      <td>226.903671</td>\n",
       "      <td>-91.896515</td>\n",
       "      <td>218.480057</td>\n",
       "      <td>0.791141</td>\n",
       "      <td>-0.287616</td>\n",
       "      <td>229.998383</td>\n",
       "      <td>-81.993217</td>\n",
       "      <td>221.4086</td>\n",
       "      <td>221.349503</td>\n",
       "      <td>-81.868439</td>\n",
       "      <td>230.311829</td>\n",
       "      <td>9999.794868</td>\n",
       "      <td>1</td>\n",
       "    </tr>\n",
       "    <tr>\n",
       "      <th>16</th>\n",
       "      <td>101.562292</td>\n",
       "      <td>8.869122</td>\n",
       "      <td>265.905823</td>\n",
       "      <td>0</td>\n",
       "      <td>0.036152</td>\n",
       "      <td>110.97657</td>\n",
       "      <td>81.228905</td>\n",
       "      <td>30.3652</td>\n",
       "      <td>0.011572</td>\n",
       "      <td>0.133134</td>\n",
       "      <td>114.274597</td>\n",
       "      <td>86.827835</td>\n",
       "      <td>36.310745</td>\n",
       "      <td>170.431870</td>\n",
       "      <td>59.736755</td>\n",
       "      <td>340.503021</td>\n",
       "      <td>9999.221455</td>\n",
       "      <td>0</td>\n",
       "    </tr>\n",
       "    <tr>\n",
       "      <th>19</th>\n",
       "      <td>181.173178</td>\n",
       "      <td>168.925873</td>\n",
       "      <td>0.349405</td>\n",
       "      <td>0</td>\n",
       "      <td>0.517549</td>\n",
       "      <td>517.184326</td>\n",
       "      <td>67.922836</td>\n",
       "      <td>156.103348</td>\n",
       "      <td>0.999998</td>\n",
       "      <td>0.959285</td>\n",
       "      <td>406.7724</td>\n",
       "      <td>114.33268</td>\n",
       "      <td>40.269585</td>\n",
       "      <td>40.016575</td>\n",
       "      <td>114.483635</td>\n",
       "      <td>406.585693</td>\n",
       "      <td>9999.828041</td>\n",
       "      <td>0</td>\n",
       "    </tr>\n",
       "    <tr>\n",
       "      <th>37</th>\n",
       "      <td>162.177990</td>\n",
       "      <td>47.523987</td>\n",
       "      <td>0.030297</td>\n",
       "      <td>0</td>\n",
       "      <td>0.336266</td>\n",
       "      <td>892.599304</td>\n",
       "      <td>-59.251465</td>\n",
       "      <td>37.77512</td>\n",
       "      <td>0.93185</td>\n",
       "      <td>0.761358</td>\n",
       "      <td>870.96521</td>\n",
       "      <td>-33.337875</td>\n",
       "      <td>71.00219</td>\n",
       "      <td>71.004707</td>\n",
       "      <td>-33.363049</td>\n",
       "      <td>870.948181</td>\n",
       "      <td>0.286233</td>\n",
       "      <td>0</td>\n",
       "    </tr>\n",
       "  </tbody>\n",
       "</table>\n",
       "</div>"
      ],
      "text/plain": [
       "    _closestNuCosmicDist   trk_len_v trk_distance_v  category  \\\n",
       "0              48.170196  230.178085       0.289455         0   \n",
       "1              48.170196   19.862617      20.065849         0   \n",
       "3             177.083498  174.338699       0.057629         0   \n",
       "10              0.067737  264.553223     196.515564         0   \n",
       "11             36.361293  493.096283       0.465464         0   \n",
       "13            127.613429  181.327194       0.272344         0   \n",
       "14            127.613429   10.863928       0.334015         0   \n",
       "16            101.562292    8.869122     265.905823         0   \n",
       "19            181.173178  168.925873       0.349405         0   \n",
       "37            162.177990   47.523987       0.030297         0   \n",
       "\n",
       "    topological_score trk_sce_end_z_v trk_sce_end_y_v trk_sce_end_x_v  \\\n",
       "0            0.932121      662.713745      -10.419758        0.564317   \n",
       "1            0.932121      467.605438      -41.015533       40.286861   \n",
       "3            0.588847      978.765259        9.115969      153.437668   \n",
       "10           0.002079      998.799072       18.552534      225.164139   \n",
       "11           0.983048      865.795166      -56.678547       80.313004   \n",
       "13           0.021950      264.979065       92.158607      255.202988   \n",
       "14           0.021950      226.903671      -91.896515      218.480057   \n",
       "16           0.036152       110.97657       81.228905         30.3652   \n",
       "19           0.517549      517.184326       67.922836      156.103348   \n",
       "37           0.336266      892.599304      -59.251465        37.77512   \n",
       "\n",
       "   trk_score_v trk_llr_pid_score_v trk_sce_start_z_v trk_sce_start_y_v  \\\n",
       "0          1.0            0.981798        443.558472        -71.411057   \n",
       "1     0.460725            0.722245          455.0065        -55.723381   \n",
       "3     0.999995            0.970214        852.828674        -36.029785   \n",
       "10         1.0            0.977688        797.282776         63.213791   \n",
       "11         1.0            0.990403        408.639801         96.316406   \n",
       "13    0.999972            0.958479        230.559982        -81.870941   \n",
       "14    0.791141           -0.287616        229.998383        -81.993217   \n",
       "16    0.011572            0.133134        114.274597         86.827835   \n",
       "19    0.999998            0.959285          406.7724         114.33268   \n",
       "37     0.93185            0.761358         870.96521        -33.337875   \n",
       "\n",
       "   trk_sce_start_x_v  reco_nu_vtx_sce_x  reco_nu_vtx_sce_y  reco_nu_vtx_sce_z  \\\n",
       "0           32.10228          32.137272         -71.675980         443.439148   \n",
       "1          36.461731          32.137272         -71.675980         443.439148   \n",
       "3          42.856102          42.869896         -35.978130         852.848938   \n",
       "10         63.001648         160.463943        -113.297066         772.441833   \n",
       "11        141.032898         141.039246          96.385994         408.178772   \n",
       "13         221.46637         221.349503         -81.868439         230.311829   \n",
       "14          221.4086         221.349503         -81.868439         230.311829   \n",
       "16         36.310745         170.431870          59.736755         340.503021   \n",
       "19         40.269585          40.016575         114.483635         406.585693   \n",
       "37          71.00219          71.004707         -33.363049         870.948181   \n",
       "\n",
       "    trk_energy_tot  Subevent  \n",
       "0     10000.021584         0  \n",
       "1     10000.021584         1  \n",
       "3         0.629191         0  \n",
       "10    10000.778217         0  \n",
       "11        1.296849         0  \n",
       "13     9999.794868         0  \n",
       "14     9999.794868         1  \n",
       "16     9999.221455         0  \n",
       "19     9999.828041         0  \n",
       "37        0.286233         0  "
      ]
     },
     "execution_count": 3,
     "metadata": {},
     "output_type": "execute_result"
    }
   ],
   "source": [
    "# Uncomment these lines to display the dataframes\n",
    "pd.set_option('display.max_columns', 100)\n",
    "# displays top 10 results.\n",
    "data.head(10)"
   ]
  },
  {
   "cell_type": "markdown",
   "id": "4fa8eb06",
   "metadata": {},
   "source": [
    "# Neutrino_functions.py"
   ]
  },
  {
   "cell_type": "markdown",
   "id": "f6dc6248",
   "metadata": {},
   "source": [
    "You are given access to a couple of template functions provided within Neutrino_functions.py, which may be helpful in completing this lab. One such function is 'Neutrino_functions.histogram_plot', which can be seen below, but you can create your own functions if you wish."
   ]
  },
  {
   "cell_type": "code",
   "execution_count": 4,
   "id": "ffd3ef74",
   "metadata": {},
   "outputs": [
    {
     "name": "stdout",
     "output_type": "stream",
     "text": [
      "Help on function histogram_plot in module Neutrino_functions:\n",
      "\n",
      "histogram_plot(MC_frame, variable, bins, name, scaling, xlims=[], plot_fig=True, plot_data=False, logscale=None, dataFrame=None, Stat_func=None)\n",
      "    MC_frame: pandas dataframe - MC dataframe\n",
      "    variable: string - name of the variable\n",
      "    bins: int - number of bins\n",
      "    name: string - name of the plot. The plot is saved\n",
      "    scaling: array/list - weights you want to apply on MC data\n",
      "    plot_data: boolean - if True then plots data as well\n",
      "    logscale: boolean - if True then y axis is log scale\n",
      "    dataFrame: pandas dataframe - data dataframe\n",
      "\n"
     ]
    }
   ],
   "source": [
    "#This command shows what input you should give the plotting function. The inputs with =None can be left out when calling the function\n",
    "help(Neutrino_functions.histogram_plot)"
   ]
  },
  {
   "cell_type": "markdown",
   "id": "f7d668e3",
   "metadata": {},
   "source": [
    "# Exercise 5/6: Selection Cuts and Histogram plotting"
   ]
  },
  {
   "cell_type": "markdown",
   "id": "c10465f5",
   "metadata": {},
   "source": [
    "Modify selection cuts. Remember to cut the same variables in both data sets."
   ]
  },
  {
   "cell_type": "code",
   "execution_count": 12,
   "id": "cecf48f9",
   "metadata": {},
   "outputs": [],
   "source": [
    "def Selections(frame):\n",
    "    \n",
    "    # Basic variables present in dataframe \n",
    "    trk_start_x_v = frame['trk_sce_start_x_v']        # cm\n",
    "    trk_start_y_v = frame['trk_sce_start_y_v']        # cm\n",
    "    trk_start_z_v = frame['trk_sce_start_z_v']        # cm\n",
    "    trk_end_x_v = frame['trk_sce_end_x_v']            # cm\n",
    "    trk_end_y_v = frame['trk_sce_end_y_v']            # cm\n",
    "    trk_end_z_v = frame['trk_sce_end_z_v']            # cm\n",
    "    reco_x = frame['reco_nu_vtx_sce_x']               # cm\n",
    "    reco_y = frame['reco_nu_vtx_sce_y']               # cm\n",
    "    reco_z = frame['reco_nu_vtx_sce_z']               # cm\n",
    "    topological = frame['topological_score']          # N/A\n",
    "    trk_score_v = frame['trk_score_v']                # N/A\n",
    "    trk_dis_v = frame['trk_distance_v']               # cm\n",
    "    trk_len_v = frame['trk_len_v']                    # cm\n",
    "    trk_energy_tot = frame['trk_energy_tot']          # GeV \n",
    "    \n",
    "    \n",
    "    #cat = frame['category']\n",
    "    \n",
    "    # List of [signal entries , purity , label]. Can be appended each selection cut\n",
    "    #event = []\n",
    "    #event.append([len(frame[cat==21]['category']),len(frame[cat==21]['category'])/len(frame['category']),'basic'])\n",
    "    \n",
    "    \n",
    "    # select the conditions you want to apply, here is an initial condition to get you started.\n",
    "    selection =  ((trk_len_v > -1000) & (trk_len_v < 1000))\n",
    "    \n",
    "    # Apply selection on dataframe\n",
    "    frame = frame[selection]\n",
    "    \n",
    "    return frame"
   ]
  },
  {
   "cell_type": "markdown",
   "id": "ebc7acbf",
   "metadata": {},
   "source": [
    "## Calls the selection function on the dataframes"
   ]
  },
  {
   "cell_type": "code",
   "execution_count": 6,
   "id": "4d1e091d",
   "metadata": {},
   "outputs": [],
   "source": [
    "MC_EXT = Selections(MC_EXT)\n",
    "data_frame = Selections(data)"
   ]
  },
  {
   "cell_type": "markdown",
   "id": "adaec0e1",
   "metadata": {},
   "source": [
    "# Plot all variables and decide on selection cuts"
   ]
  },
  {
   "cell_type": "code",
   "execution_count": 10,
   "id": "e41e64b2",
   "metadata": {
    "tags": []
   },
   "outputs": [
    {
     "name": "stdout",
     "output_type": "stream",
     "text": [
      "['reco_nu_vtx_sce_y', 'category', 'trk_energy_tot', '_closestNuCosmicDist', 'topological_score', 'trk_sce_end_x_v', 'trk_sce_start_z_v', 'trk_sce_end_y_v', 'trk_score_v', 'trk_sce_end_z_v', 'trk_distance_v', 'trk_sce_start_y_v', 'trk_llr_pid_score_v', 'reco_nu_vtx_sce_z', 'trk_len_v', 'trk_sce_start_x_v', 'Subevent', 'reco_nu_vtx_sce_x']\n"
     ]
    }
   ],
   "source": [
    "# Common variables in both dataframes\n",
    "all_variables_to_plot = list(set(list(MC_EXT)).intersection(list(data_frame)))\n",
    "print(all_variables_to_plot)\n"
   ]
  },
  {
   "cell_type": "code",
   "execution_count": 11,
   "id": "092dc78f-ae0f-49c3-b747-6337ae413a71",
   "metadata": {},
   "outputs": [
    {
     "data": {
      "image/png": "[encoded data removed]",
      "text/plain": [
       "<Figure size 1440x1080 with 1 Axes>"
      ]
     },
     "metadata": {
      "needs_background": "light"
     },
     "output_type": "display_data"
    }
   ],
   "source": [
    "# Simple histogram plot of one variable.\n",
    "BIN = 23\n",
    "plt.figure(figsize=(20,15))\n",
    "i = sns.histplot(data=MC_EXT, x='trk_energy_tot', multiple=\"stack\", hue=\"category\", palette = 'deep', weights = MC_EXT['weight'], bins = BIN, legend = False)\n",
    "i.set(xlabel='trk_energy_tot', ylabel = \"Events\")\n",
    "\n",
    "#plt.yscale('log')\n",
    "plt.xlim([np.min(MC_EXT['trk_energy_tot']), np.max(MC_EXT['trk_energy_tot'])])\n",
    "plt.legend(title='Run 3',fontsize=16, loc='upper right', labels=[r\"$\\nu$ NC\", r\"$\\nu_{\\mu}$ CC\", r\"$\\nu_e$ CC\", r\"EXT\", r\"Out. fid. vol.\", r\"Cosmic\"])\n",
    "plt.show(i)"
   ]
  },
  {
   "cell_type": "markdown",
   "id": "5e1dd046-2cce-4dc7-8251-2f37c9d844db",
   "metadata": {},
   "source": [
    "# Exercise 6/7: Check the purity and efficiency of the sample\n",
    "It is recommended to plot purity and efficiency after each variable cut.\n",
    "\n",
    "**HINT:** Function Selection() has commented lines of code that you may find useful for purpose of plotting changes in purity/efficiency after every cut."
   ]
  },
  {
   "cell_type": "code",
   "execution_count": null,
   "id": "c0d20bc9",
   "metadata": {},
   "outputs": [],
   "source": []
  },
  {
   "cell_type": "markdown",
   "id": "f990950e",
   "metadata": {},
   "source": [
    "# Exercise 7/8: Plot the energy spectrums here and normalise\n",
    "\n",
    "Final representation of MC and data after applying the cuts."
   ]
  },
  {
   "cell_type": "code",
   "execution_count": 8,
   "id": "c8b15a33",
   "metadata": {},
   "outputs": [
    {
     "data": {
      "image/png": "[encoded data removed]",
      "text/plain": [
       "<Figure size 1080x720 with 1 Axes>"
      ]
     },
     "metadata": {
      "needs_background": "light"
     },
     "output_type": "display_data"
    },
    {
     "data": {
      "text/plain": [
       "([28147.1099014348,\n",
       "  0.0,\n",
       "  0.0,\n",
       "  0.0,\n",
       "  0.0,\n",
       "  0.0,\n",
       "  0.0,\n",
       "  0.0,\n",
       "  0.0,\n",
       "  0.0,\n",
       "  0.0,\n",
       "  0.0,\n",
       "  0.0,\n",
       "  0.0,\n",
       "  0.0,\n",
       "  0.0,\n",
       "  0.0,\n",
       "  0.0,\n",
       "  0.0,\n",
       "  81831.44744642603],\n",
       " [29720, 0, 0, 0, 0, 0, 0, 0, 0, 0, 0, 0, 0, 0, 0, 0, 0, 0, 0, 90191])"
      ]
     },
     "execution_count": 8,
     "metadata": {},
     "output_type": "execute_result"
    }
   ],
   "source": []
  },
  {
   "cell_type": "markdown",
   "id": "b78a4f95",
   "metadata": {},
   "source": [
    "# Exercise 8/9: Oscillation and fitting"
   ]
  },
  {
   "cell_type": "markdown",
   "id": "d393afa4",
   "metadata": {},
   "source": [
    "### Define functions requires for Oscillation analysis, test that they work!\n"
   ]
  },
  {
   "cell_type": "code",
   "execution_count": null,
   "id": "07566382",
   "metadata": {},
   "outputs": [],
   "source": [
    "# oscillation function\n"
   ]
  },
  {
   "cell_type": "code",
   "execution_count": null,
   "id": "c5967c48-f524-46d7-ac1e-357555301849",
   "metadata": {},
   "outputs": [],
   "source": [
    "# muon disappearance application to reconstructed neutrino energy\n"
   ]
  },
  {
   "cell_type": "code",
   "execution_count": null,
   "id": "7b87957a-1f34-4bf1-aefa-f6c7e684a677",
   "metadata": {},
   "outputs": [],
   "source": [
    "# chi squared function\n"
   ]
  },
  {
   "cell_type": "markdown",
   "id": "8f60e1c2",
   "metadata": {},
   "source": [
    "# Exercise 9/10: Oscillation parameter scan, contour plotting\n",
    "Apply your above defined functions, and represent your result with matplotlib's contour and fcontour."
   ]
  },
  {
   "cell_type": "code",
   "execution_count": null,
   "id": "6a636011",
   "metadata": {},
   "outputs": [],
   "source": [
    "# contourf application"
   ]
  },
  {
   "cell_type": "markdown",
   "id": "6e92aee0-ab5a-47f2-a06c-16e5fb502e27",
   "metadata": {},
   "source": [
    "### Bonus: Minimise\n",
    "\n",
    "Minimise your chi square value, determining the parameters of 'best fit'"
   ]
  },
  {
   "cell_type": "code",
   "execution_count": null,
   "id": "75992acf-0072-4455-84d8-e8b485adcb88",
   "metadata": {},
   "outputs": [],
   "source": []
  },
  {
   "cell_type": "markdown",
   "id": "a1299925-91bd-4caf-9ecb-0ef4bfa6db5f",
   "metadata": {},
   "source": [
    "### Confidence levels and parameter minima. \n",
    "Determine confidence levels, and find the parameter values that correspond to the lowest chi squared value within your range.with"
   ]
  },
  {
   "cell_type": "code",
   "execution_count": null,
   "id": "bd3e1ec9-88c7-41e3-aef0-301f75806dc2",
   "metadata": {},
   "outputs": [],
   "source": [
    "# contour application, with correct confidence levels."
   ]
  },
  {
   "cell_type": "code",
   "execution_count": null,
   "id": "68e7cfec-7be9-41ac-be66-143503fd34e0",
   "metadata": {},
   "outputs": [],
   "source": [
    "# find lowest chi squared value within range and plot with CL, or contourf plot."
   ]
  },
  {
   "cell_type": "markdown",
   "id": "320a4deb-1de2-4548-8624-a055ab83d3cf",
   "metadata": {},
   "source": [
    "# Exercise 11/12: 3+1 Framework Neutrino disappearance."
   ]
  },
  {
   "cell_type": "code",
   "execution_count": null,
   "id": "b3f71e54-3c37-4266-913b-c870c87f9686",
   "metadata": {},
   "outputs": [],
   "source": []
  },
  {
   "cell_type": "markdown",
   "id": "96534cc3",
   "metadata": {},
   "source": [
    "# Compare your result with MiniBooNE"
   ]
  },
  {
   "cell_type": "markdown",
   "id": "92e32b76",
   "metadata": {},
   "source": [
    "Results are extracted from MiniBooNE (orange) and LSND (blue)"
   ]
  },
  {
   "cell_type": "code",
   "execution_count": 9,
   "id": "e2a7d7be",
   "metadata": {},
   "outputs": [
    {
     "data": {
      "image/png": "[encoded data removed]",
      "text/plain": [
       "<Figure size 432x288 with 1 Axes>"
      ]
     },
     "metadata": {
      "needs_background": "light"
     },
     "output_type": "display_data"
    }
   ],
   "source": [
    "# Load data\n",
    "LSND_data = pd.read_csv('./data/DataSet_LSND.csv').to_numpy()\n",
    "MiniBooNE_data = pd.read_csv('./data/DataSet_MiniBooNE.csv').to_numpy()\n",
    "\n",
    "# Plot data\n",
    "plt.plot(LSND_data[:,0],LSND_data[:,1],'o')\n",
    "plt.plot(MiniBooNE_data[:,0],MiniBooNE_data[:,1],'o')\n",
    "\n",
    "plt.xlabel(r'$sin^2(2\\theta_{\\mu e})=sin^2(\\theta_{24})sin^2(2\\theta_{14})$',fontsize=20)\n",
    "plt.ylabel(r'$\\Delta$ $m_{14}^2$',fontsize=20)\n",
    "plt.xticks(fontsize=18)\n",
    "plt.yticks(fontsize=18)\n",
    "plt.yscale('log')\n",
    "plt.xscale('log')\n",
    "plt.show()"
   ]
  },
  {
   "cell_type": "code",
   "execution_count": null,
   "id": "d96bf9f0",
   "metadata": {},
   "outputs": [],
   "source": []
  }
 ],
 "metadata": {
  "kernelspec": {
   "display_name": "Python 3 (ipykernel)",
   "language": "python",
   "name": "python3"
  },
  "language_info": {
   "codemirror_mode": {
    "name": "ipython",
    "version": 3
   },
   "file_extension": ".py",
   "mimetype": "text/x-python",
   "name": "python",
   "nbconvert_exporter": "python",
   "pygments_lexer": "ipython3",
   "version": "3.9.13"
  }
 },
 "nbformat": 4,
 "nbformat_minor": 5
}
