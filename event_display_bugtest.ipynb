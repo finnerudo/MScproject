{
 "cells": [
  {
   "cell_type": "code",
   "execution_count": 9,
   "id": "4fe91ac4-4523-40a1-a3c7-208bdd71f7af",
   "metadata": {},
   "outputs": [],
   "source": [
    "import h5py\n",
    "%matplotlib widget\n",
    "from EventDisplay import EvDisp\n",
    "from EventDisplay import SearchID"
   ]
  },
  {
   "cell_type": "code",
   "execution_count": 2,
   "id": "fc0a14f6-4173-48c3-82f5-fb44700a4c79",
   "metadata": {},
   "outputs": [],
   "source": [
    "f = h5py.File(\"data/bnb_run3_mc_larcv.h5\", 'r')"
   ]
  },
  {
   "cell_type": "code",
   "execution_count": 4,
   "id": "665c0c4e-77da-4592-9974-988682347b15",
   "metadata": {},
   "outputs": [
    {
     "name": "stdout",
     "output_type": "stream",
     "text": [
      "<class 'h5py._hl.group.Group'>\n",
      "['image_3483647']\n"
     ]
    }
   ],
   "source": [
    "print(type(f['image2d']['wire']))\n",
    "print(list(f['image2d']['wire']))"
   ]
  },
  {
   "cell_type": "code",
   "execution_count": 5,
   "id": "9a1efec6-3550-4d65-ad7e-7dc5f3e64229",
   "metadata": {},
   "outputs": [
    {
     "name": "stdout",
     "output_type": "stream",
     "text": [
      "<HDF5 dataset \"image_3483647\": shape (19289, 3, 1008, 3456), type \"<f4\">\n"
     ]
    }
   ],
   "source": [
    "print((f['image2d']['wire']['image_3483647']))"
   ]
  },
  {
   "cell_type": "code",
   "execution_count": 6,
   "id": "bc174a4f-b9a7-4f45-87e1-2fc2d5dc2e75",
   "metadata": {},
   "outputs": [],
   "source": [
    "wire_set = f['image2d']['wire']"
   ]
  },
  {
   "cell_type": "code",
   "execution_count": 8,
   "id": "c8d12794-c3d0-4e0e-bd9a-7f91be35c1df",
   "metadata": {},
   "outputs": [
    {
     "name": "stdout",
     "output_type": "stream",
     "text": [
      "<HDF5 group \"/image2d/wire\" (1 members)>\n",
      "image_3483647\n"
     ]
    }
   ],
   "source": [
    "print(wire_set)\n",
    "print(list(wire_set.keys())[0])\n",
    "image=wire_set[list(wire_set.keys())[0]]"
   ]
  },
  {
   "cell_type": "code",
   "execution_count": 10,
   "id": "b8489798-d6b3-41c9-a0ed-cc752493b2f3",
   "metadata": {},
   "outputs": [
    {
     "ename": "NameError",
     "evalue": "name 'plt' is not defined",
     "output_type": "error",
     "traceback": [
      "\u001b[0;31m---------------------------------------------------------------------------\u001b[0m",
      "\u001b[0;31mNameError\u001b[0m                                 Traceback (most recent call last)",
      "Input \u001b[0;32mIn [10]\u001b[0m, in \u001b[0;36m<cell line: 1>\u001b[0;34m()\u001b[0m\n\u001b[0;32m----> 1\u001b[0m \u001b[43mplt\u001b[49m\u001b[38;5;241m.\u001b[39mimshow(image[entry,plane,:,:],cmap\u001b[38;5;241m=\u001b[39m\u001b[38;5;124m'\u001b[39m\u001b[38;5;124mturbo\u001b[39m\u001b[38;5;124m'\u001b[39m,origin\u001b[38;5;241m=\u001b[39m\u001b[38;5;124m\"\u001b[39m\u001b[38;5;124mlower\u001b[39m\u001b[38;5;124m\"\u001b[39m)\n",
      "\u001b[0;31mNameError\u001b[0m: name 'plt' is not defined"
     ]
    }
   ],
   "source": [
    "plt.imshow(image[entry,plane,:,:],cmap='turbo',origin=\"lower\")"
   ]
  },
  {
   "cell_type": "code",
   "execution_count": 15,
   "id": "0e9934dd-7442-47a8-853a-cf41a88df8e0",
   "metadata": {},
   "outputs": [
    {
     "name": "stdout",
     "output_type": "stream",
     "text": [
      "(0, 260, 5, 14634)\n",
      "(1, 264, 5, 14634)\n",
      "(2, 267, 5, 14634)\n",
      "<HDF5 dataset \"eventid\": shape (19289,), type \"|V16\">\n"
     ]
    }
   ],
   "source": [
    "print(f['eventid'][0])\n",
    "print(f['eventid'][1])\n",
    "print(f['eventid'][2])\n",
    "print(f['eventid'])"
   ]
  },
  {
   "cell_type": "code",
   "execution_count": 16,
   "id": "ce302fb4-e0ef-479a-a272-99d595f31347",
   "metadata": {},
   "outputs": [
    {
     "ename": "NameError",
     "evalue": "name 'SearchID' is not defined",
     "output_type": "error",
     "traceback": [
      "\u001b[0;31m---------------------------------------------------------------------------\u001b[0m",
      "\u001b[0;31mNameError\u001b[0m                                 Traceback (most recent call last)",
      "Input \u001b[0;32mIn [16]\u001b[0m, in \u001b[0;36m<cell line: 6>\u001b[0;34m()\u001b[0m\n\u001b[1;32m      4\u001b[0m event\u001b[38;5;241m=\u001b[39m\u001b[38;5;241m200\u001b[39m\n\u001b[1;32m      5\u001b[0m event_id_list \u001b[38;5;241m=\u001b[39m f[\u001b[38;5;124m'\u001b[39m\u001b[38;5;124meventid\u001b[39m\u001b[38;5;124m'\u001b[39m]\n\u001b[0;32m----> 6\u001b[0m entry \u001b[38;5;241m=\u001b[39m \u001b[43mSearchID\u001b[49m(run,subrun,event,event_id_list)\n",
      "\u001b[0;31mNameError\u001b[0m: name 'SearchID' is not defined"
     ]
    }
   ],
   "source": [
    "# testing entry collection\n",
    "run=15092\n",
    "subrun=9\n",
    "event=200\n",
    "event_id_list = f['eventid']\n",
    "entry = SearchID(run,subrun,event,event_id_list)"
   ]
  },
  {
   "cell_type": "code",
   "execution_count": null,
   "id": "8f3667da-1055-45fa-97c6-c205aaad8766",
   "metadata": {},
   "outputs": [],
   "source": []
  }
 ],
 "metadata": {
  "kernelspec": {
   "display_name": "Python 3 (ipykernel)",
   "language": "python",
   "name": "python3"
  },
  "language_info": {
   "codemirror_mode": {
    "name": "ipython",
    "version": 3
   },
   "file_extension": ".py",
   "mimetype": "text/x-python",
   "name": "python",
   "nbconvert_exporter": "python",
   "pygments_lexer": "ipython3",
   "version": "3.9.13"
  }
 },
 "nbformat": 4,
 "nbformat_minor": 5
}
