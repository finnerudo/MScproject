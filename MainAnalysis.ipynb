{
 "cells": [
  {
   "cell_type": "markdown",
   "id": "8adfb894",
   "metadata": {},
   "source": [
    "# About this Notebook\n",
    "\n",
    "This is a Python notebook. This is the notebook you'll use to run and create the analysis code on pickle data sets. Pickle files are created and premanufactured from ROOT files from MicroBooNE LAr experiment.\n",
    "\n",
    "You should have access to: example_neutrino.ipynb, neutrino_function.py, data folder. You are free to modify neutrino_function.py or create your own plotting functions.\n",
    "\n",
    "**IMPORTANT:** It is strongly recommended that only **one** student of a lab pair should edit this notebook and the files contained within the server directories. This is because both students cannot see the same live edit of the notebook or files at the same time, and it is easy to accidently overwrite each other."
   ]
  },
  {
   "cell_type": "markdown",
   "id": "188d3680",
   "metadata": {},
   "source": [
    "# All imports"
   ]
  },
  {
   "cell_type": "markdown",
   "id": "6da8b4ad",
   "metadata": {},
   "source": [
    "The basic libraries, you may import more if there are present on the server's environment"
   ]
  },
  {
   "cell_type": "code",
   "execution_count": null,
   "id": "c274bcaa",
   "metadata": {},
   "outputs": [],
   "source": [
    "import numpy as np\n",
    "import uproot3\n",
    "import pickle\n",
    "\n",
    "import pandas as pd\n",
    "\n",
    "import seaborn as sns\n",
    "import matplotlib.pyplot as plt\n",
    "\n",
    "import Neutrino_functions\n",
    "\n",
    "from math import *\n",
    "import scipy as sci"
   ]
  },
  {
   "cell_type": "markdown",
   "id": "b8763c16",
   "metadata": {},
   "source": [
    "# Opening the MC and data frames"
   ]
  },
  {
   "cell_type": "code",
   "execution_count": null,
   "id": "3253e456",
   "metadata": {},
   "outputs": [],
   "source": [
    "# MC\n",
    "MC_file = './data/MC_EXT_flattened.pkl'\n",
    "\n",
    "# Data\n",
    "data_file = './data/data_frame_flattened.pkl'\n",
    "\n",
    "\n",
    "# Open file as pandas dataframe\n",
    "MC_EXT = pd.read_pickle(MC_file)\n",
    "data = pd.read_pickle(data_file)"
   ]
  },
  {
   "cell_type": "markdown",
   "id": "5ce55e3d",
   "metadata": {},
   "source": [
    "# You can display the dataframe by uncommenting these lines and running the cell"
   ]
  },
  {
   "cell_type": "code",
   "execution_count": null,
   "id": "dfa15883",
   "metadata": {},
   "outputs": [],
   "source": [
    "# Uncomment these lines to display the dataframes\n",
    "#pd.set_option('display.max_columns', 100)\n",
    "#data.head(10)"
   ]
  },
  {
   "cell_type": "markdown",
   "id": "4fa8eb06",
   "metadata": {},
   "source": [
    "# This command, when ran, shows you the different inputs you can give the function"
   ]
  },
  {
   "cell_type": "markdown",
   "id": "f6dc6248",
   "metadata": {},
   "source": [
    "You can access this function. It is present in Neutrino_functions.py. You can create your own plotting function if you wish."
   ]
  },
  {
   "cell_type": "code",
   "execution_count": null,
   "id": "ffd3ef74",
   "metadata": {},
   "outputs": [],
   "source": [
    "#This command shows what input you should give the plotting function. The inputs with =None can be left out when calling the function\n",
    "help(Neutrino_functions.histogram_plot)"
   ]
  },
  {
   "cell_type": "markdown",
   "id": "f7d668e3",
   "metadata": {},
   "source": [
    "# Make your selections here"
   ]
  },
  {
   "cell_type": "markdown",
   "id": "c10465f5",
   "metadata": {},
   "source": [
    "Modify selection cuts. Remember to cut the same variables in both data sets."
   ]
  },
  {
   "cell_type": "code",
   "execution_count": null,
   "id": "cecf48f9",
   "metadata": {},
   "outputs": [],
   "source": [
    "def Selections(frame):\n",
    "    \n",
    "    # Basic variables present in dataframe\n",
    "    trk_start_x_v = frame['trk_sce_start_x_v']\n",
    "    trk_start_y_v = frame['trk_sce_start_y_v']\n",
    "    trk_start_z_v = frame['trk_sce_start_z_v']\n",
    "    trk_end_x_v = frame['trk_sce_end_x_v']\n",
    "    trk_end_y_v = frame['trk_sce_end_y_v']\n",
    "    trk_end_z_v = frame['trk_sce_end_z_v'] \n",
    "    reco_x = frame['reco_nu_vtx_sce_x']\n",
    "    reco_y = frame['reco_nu_vtx_sce_y']\n",
    "    reco_z = frame['reco_nu_vtx_sce_z']\n",
    "    topological = frame['topological_score']\n",
    "    trk_score_v = frame['trk_score_v']\n",
    "    trk_dis_v = frame['trk_distance_v']\n",
    "    trk_len_v = frame['trk_len_v']\n",
    "    trk_energy_tot = frame['trk_energy_tot']\n",
    "    \n",
    "    \n",
    "    #cat = frame['category']\n",
    "    \n",
    "    # List of [signal entries , purity , label]. Can be appended each selection cut\n",
    "    #event = []\n",
    "    #event.append([len(frame[cat==21]['category']),len(frame[cat==21]['category'])/len(frame['category']),'basic'])\n",
    "    \n",
    "    \n",
    "    # select the conditions you want to apply \n",
    "    selection =  ((trk_len_v > -1000) & (trk_len_v < 1000))\n",
    "    \n",
    "    # Apply selection on dataframe\n",
    "    frame = frame[selection]\n",
    "    \n",
    "    return frame"
   ]
  },
  {
   "cell_type": "markdown",
   "id": "ebc7acbf",
   "metadata": {},
   "source": [
    "# Calls the selection function on the dataframes"
   ]
  },
  {
   "cell_type": "code",
   "execution_count": null,
   "id": "4d1e091d",
   "metadata": {},
   "outputs": [],
   "source": [
    "MC_EXT = Selections(MC_EXT)\n",
    "data_frame = Selections(data)"
   ]
  },
  {
   "cell_type": "markdown",
   "id": "309e13fc",
   "metadata": {},
   "source": [
    "# Check the purity and efficiency of the sample\n",
    "It is recommended to plot purity and efficiency after each variable cut.\n",
    "\n",
    "**HINT:** Function Selection() has commented lines of code that you may find useful for purpose of plotting changes in purity/efficiency after every cut."
   ]
  },
  {
   "cell_type": "code",
   "execution_count": null,
   "id": "c0d20bc9",
   "metadata": {},
   "outputs": [],
   "source": []
  },
  {
   "cell_type": "markdown",
   "id": "adaec0e1",
   "metadata": {},
   "source": [
    "# Plot all variables and decide on selection cuts"
   ]
  },
  {
   "cell_type": "code",
   "execution_count": null,
   "id": "e41e64b2",
   "metadata": {},
   "outputs": [],
   "source": [
    "BIN = 60\n",
    "# Common variables in both dataframes\n",
    "all_variables_to_plot = list(set(list(MC_EXT)).intersection(list(data_frame)))\n",
    "\n",
    "for item in all_variables_to_plot:\n",
    "    plt.figure(figsize=(20,15))\n",
    "    i = sns.histplot(data=MC_EXT, x=item, multiple=\"stack\", hue=\"category\", palette = 'deep', weights = MC_EXT['weight'], bins = BIN, legend = False)\n",
    "    i.set(xlabel=item, ylabel = \"Events\")\n",
    "\n",
    "    #plt.yscale('log')\n",
    "    plt.xlim([np.min(MC_EXT[item]), np.max(MC_EXT[item])])\n",
    "    plt.legend(title='Run 3',fontsize=16, loc='upper right', labels=[r\"$\\nu$ NC\", r\"$\\nu_{\\mu}$ CC\", r\"$\\nu_e$ CC\", r\"EXT\", r\"Out. fid. vol.\", r\"Cosmic\"])\n",
    "    plt.show(i)"
   ]
  },
  {
   "cell_type": "markdown",
   "id": "f990950e",
   "metadata": {},
   "source": [
    "# Plot the energy spectrums here and normalise\n",
    "\n",
    "Final representation of MC and data after applying the cuts "
   ]
  },
  {
   "cell_type": "code",
   "execution_count": null,
   "id": "c8b15a33",
   "metadata": {},
   "outputs": [],
   "source": [
    "Neutrino_functions.histogram_plot(MC_EXT, 'trk_energy_tot', 20, 'saved_figure_name', MC_EXT['weight'],xlims=[np.min(MC_EXT['trk_energy_tot']), np.max(MC_EXT['trk_energy_tot'])], plot_data = True, logscale = False, dataFrame = data_frame)\n"
   ]
  },
  {
   "cell_type": "markdown",
   "id": "b78a4f95",
   "metadata": {},
   "source": [
    "# Oscillation and fitting"
   ]
  },
  {
   "cell_type": "markdown",
   "id": "d393afa4",
   "metadata": {},
   "source": [
    "### Define functions and minimise chi square \n",
    "Write oscillation function and chi square. Apply oscillation function on MC data set and minimize chi square"
   ]
  },
  {
   "cell_type": "code",
   "execution_count": null,
   "id": "07566382",
   "metadata": {},
   "outputs": [],
   "source": []
  },
  {
   "cell_type": "markdown",
   "id": "8f60e1c2",
   "metadata": {},
   "source": [
    "### Plot contour\n",
    "Represent your result on matplotlib's contour"
   ]
  },
  {
   "cell_type": "code",
   "execution_count": null,
   "id": "6a636011",
   "metadata": {},
   "outputs": [],
   "source": []
  },
  {
   "cell_type": "markdown",
   "id": "96534cc3",
   "metadata": {},
   "source": [
    "# Compare your result with MINIbooNE"
   ]
  },
  {
   "cell_type": "markdown",
   "id": "92e32b76",
   "metadata": {},
   "source": [
    "Results are extracted from MiniBooNE (orange) and LSND (blue)"
   ]
  },
  {
   "cell_type": "code",
   "execution_count": null,
   "id": "e2a7d7be",
   "metadata": {},
   "outputs": [],
   "source": [
    "# Load data\n",
    "LSND_data = pd.read_csv('./data/DataSet_LSND.csv').to_numpy()\n",
    "MiniBooNE_data = pd.read_csv('./data/DataSet_MiniBooNE.csv').to_numpy()\n",
    "\n",
    "# Plot data\n",
    "plt.plot(LSND_data[:,0],LSND_data[:,1],'o')\n",
    "plt.plot(MiniBooNE_data[:,0],MiniBooNE_data[:,1],'o')\n",
    "\n",
    "plt.xlabel(r'$sin^2(2\\theta_{\\mu e})=sin^2(\\theta_{24})sin^2(2\\theta_{14})$',fontsize=20)\n",
    "plt.ylabel(r'$\\Delta$ $m_{14}^2$',fontsize=20)\n",
    "plt.xticks(fontsize=18)\n",
    "plt.yticks(fontsize=18)\n",
    "plt.yscale('log')\n",
    "plt.xscale('log')\n",
    "plt.show()"
   ]
  },
  {
   "cell_type": "code",
   "execution_count": null,
   "id": "d96bf9f0",
   "metadata": {},
   "outputs": [],
   "source": []
  }
 ],
 "metadata": {
  "kernelspec": {
   "display_name": "Python 3 (ipykernel)",
   "language": "python",
   "name": "python3"
  },
  "language_info": {
   "codemirror_mode": {
    "name": "ipython",
    "version": 3
   },
   "file_extension": ".py",
   "mimetype": "text/x-python",
   "name": "python",
   "nbconvert_exporter": "python",
   "pygments_lexer": "ipython3",
   "version": "3.9.13"
  }
 },
 "nbformat": 4,
 "nbformat_minor": 5
}
