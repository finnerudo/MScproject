{
 "cells": [
  {
   "cell_type": "markdown",
   "id": "188d3680",
   "metadata": {},
   "source": [
    "# All imports"
   ]
  },
  {
   "cell_type": "code",
   "execution_count": null,
   "id": "c274bcaa",
   "metadata": {},
   "outputs": [],
   "source": [
    "import os,sys,string, time\n",
    "import pickle\n",
    "print(sys.path)\n",
    "print (sys.version)\n",
    "import ROOT\n",
    "import seaborn as sns\n",
    "from matplotlib.lines import Line2D\n",
    "from math import *\n",
    "from ROOT import gPad, TTree, TObject, TFile, gDirectory, TH1D, TH2D, TH3D, TCanvas, gROOT, TGaxis, gStyle, TColor, TLegend, THStack, TChain, TLatex, TText, TCollection, kRed, kBlue\n",
    "from array import array\n",
    "import math\n",
    "import matplotlib.pyplot as plt\n",
    "import awkward \n",
    "import plotly.express as px\n",
    "import numpy as np\n",
    "import matplotlib.ticker as tck\n",
    "from numpy import exp,arange\n",
    "from pylab import meshgrid,cm,imshow,contour,clabel,colorbar,axis,title,show    \n",
    "import uproot3\n",
    "import matplotlib.cm as cm\n",
    "import matplotlib.mlab as mlab\n",
    "\n",
    "import pandas as pd\n",
    "\n",
    "from root_pandas import read_root\n",
    "from platform import python_version\n",
    "\n",
    "import scipy as sci\n",
    "from scipy import stats\n",
    "import scipy.optimize as op"
   ]
  },
  {
   "cell_type": "markdown",
   "id": "b8763c16",
   "metadata": {},
   "source": [
    "# Opening the MC and data frames"
   ]
  },
  {
   "cell_type": "code",
   "execution_count": null,
   "id": "3253e456",
   "metadata": {},
   "outputs": [],
   "source": [
    "#MC\n",
    "loc_file = '/pc2014-data5/ofinnerud/3rd_yearlab/files/MC_EXT_flattened1.pkl'\n",
    "\n",
    "#Data\n",
    "data_file = '/pc2014-data5/ofinnerud/3rd_year_lab/files/data_flattened1.pkl'\n",
    "\n",
    "\n",
    "\n"
   ]
  },
  {
   "cell_type": "code",
   "execution_count": null,
   "id": "80a5bbf5",
   "metadata": {},
   "outputs": [],
   "source": [
    "MC_EXT = pd.read_pickle(loc_file)\n",
    "data_frame = pd.read_pickle(data_file)"
   ]
  },
  {
   "cell_type": "markdown",
   "id": "362260be",
   "metadata": {},
   "source": [
    "# Make your selections here"
   ]
  },
  {
   "cell_type": "code",
   "execution_count": null,
   "id": "43eb87ca",
   "metadata": {},
   "outputs": [],
   "source": [
    "neutrino_energy = MC_EXT['trk_energy_tot']\n",
    "\n",
    "selection =  (neutrino_energy > 0) \n",
    "\n",
    "MC_EXT = MC_EXT[selection]"
   ]
  },
  {
   "cell_type": "markdown",
   "id": "f990950e",
   "metadata": {},
   "source": [
    "# Plot the energy spectrums here and normalise"
   ]
  },
  {
   "cell_type": "code",
   "execution_count": null,
   "id": "c8b15a33",
   "metadata": {},
   "outputs": [],
   "source": []
  }
 ],
 "metadata": {
  "kernelspec": {
   "display_name": "Python 3 (ipykernel)",
   "language": "python",
   "name": "python3"
  },
  "language_info": {
   "codemirror_mode": {
    "name": "ipython",
    "version": 3
   },
   "file_extension": ".py",
   "mimetype": "text/x-python",
   "name": "python",
   "nbconvert_exporter": "python",
   "pygments_lexer": "ipython3",
   "version": "3.9.2"
  }
 },
 "nbformat": 4,
 "nbformat_minor": 5
}
