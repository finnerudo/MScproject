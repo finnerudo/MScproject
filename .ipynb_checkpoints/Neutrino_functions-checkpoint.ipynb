{
 "cells": [
  {
   "cell_type": "code",
   "execution_count": 7,
   "id": "ae7a3292",
   "metadata": {},
   "outputs": [],
   "source": [
    "import seaborn as sns\n",
    "import matplotlib.pyplot as plt\n",
    "import numpy as np\n",
    "#weight, bins, name, logscale = None, y_err = None\n",
    "#log_scale=logscale, labels = labels"
   ]
  },
  {
   "cell_type": "code",
   "execution_count": 5,
   "id": "062bae58",
   "metadata": {},
   "outputs": [],
   "source": [
    "def histogram_plot(MC_frame, variable, bins, name, scaling, plot_data = None, logscale = None, dataFrame = None):\n",
    "    #x = 0.5*(bins[1:]+ bins[:-1])\n",
    "    \n",
    "    if (plot_data == None):\n",
    "        fig = plt.figure(figsize=(15,10))\n",
    "        labels=[r\"$\\nu$ NC\", r\"$\\nu_{\\mu}$ CC\", r\"$\\nu_e$ CC\", r\"EXT\", r\"Out. fid. vol.\", r\"Cosmic\"]\n",
    "        sns.histplot(data=MC_frame, x= variable , hue=\"category\", multiple=\"stack\", palette = 'deep', weights = scaling, bins=bins, legend = False, log_scale=logscale)\n",
    "        plt.legend(title='Run 30', loc='upper right', labels=[r\"$\\nu$ NC\", r\"$\\nu_{\\mu}$ CC\", r\"$\\nu_e$ CC\", r\"EXT\", r\"Out. fid. vol.\", r\"Cosmic\"])\n",
    "        plt.savefig('name.jpg', dpi=300) \n",
    "        plt.show()\n",
    "        \n",
    "\n",
    "    else:\n",
    "        fig_data = plt.figure(figsize=(15,10))\n",
    "        Data_fig = sns.histplot(data=dataFrame, x=variable, bins=bins, legend = False, log_scale=logscale)\n",
    "        bars = Data_fig.patches\n",
    "        \n",
    "        heights = [patch.get_height() for patch in bars]\n",
    "        x = [patch.get_x() for patch in bars]\n",
    "        w = [patch.get_width() for patch in bars]\n",
    "        plt.close(fig_data)\n",
    "        #y_real = np.array(y_real)\n",
    "        fig = plt.figure(figsize=(15,10))\n",
    "        labels=[r\"$\\nu$ NC\", r\"$\\nu_{\\mu}$ CC\", r\"$\\nu_e$ CC\", r\"EXT\", r\"Out. fid. vol.\", r\"Cosmic\", r\"Data\"]\n",
    "        sns.histplot(data=MC_frame, x= variable , hue=\"category\", multiple=\"stack\", palette = 'deep', weights = scaling, bins = x, legend = False, log_scale=logscale)\n",
    "        del x[-1]\n",
    "        del heights[-1]\n",
    "        new_bins = [start+w[0]/2 for start in x]\n",
    "        plt.errorbar(new_bins, heights , xerr=w[0]/2, fmt='.k');\n",
    "        plt.legend(title='Run 30', loc='upper right', labels=[r\"$\\nu$ NC\", r\"$\\nu_{\\mu}$ CC\", r\"$\\nu_e$ CC\", r\"EXT\", r\"Out. fid. vol.\", r\"Cosmic\"])\n",
    "        plt.xlabel(\"Reconstructed numu energy (Gev)\")\n",
    "        plt.ylabel(\"Events\")\n",
    "        plt.savefig('name.jpg', dpi=300) \n",
    "        \n",
    "        \n",
    "    return \n",
    "    "
   ]
  },
  {
   "cell_type": "code",
   "execution_count": 19,
   "id": "88f8b0a0",
   "metadata": {},
   "outputs": [],
   "source": [
    "#Return element from index\n",
    "def element_index(vector,index,defval=9999.):\n",
    "    import awkward \n",
    "    #print ('vector check....')\n",
    "    #print (idx)\n",
    "    #print (len(pidv))\n",
    "    return awkward.fromiter([pidv[tid] if ( (tid<len(pidv) ) & (tid>=0)) else defval for pidv,tid in zip(vector,index)])\n",
    "\n",
    "#Return index from element\n",
    "def index(argidx,vecsort,mask):\n",
    "    import awkward \n",
    "    vid = vecsort[mask]\n",
    "    sizecheck = argidx if argidx>=0 else abs(argidx)-1\n",
    "    # find the position in the array after masking\n",
    "    mskd_pos = [v.argsort()[argidx] if len(v)>sizecheck else -1 for v in vid]\n",
    "    # go back to the corresponding position in the origin array before masking\n",
    "    result = [[i for i, n in enumerate(m) if n == 1][p] if (p)>=0 else -1 for m,p in zip(mask,mskd_pos)]\n",
    "    return result"
   ]
  }
 ],
 "metadata": {
  "kernelspec": {
   "display_name": "Python 3 (ipykernel)",
   "language": "python",
   "name": "python3"
  },
  "language_info": {
   "codemirror_mode": {
    "name": "ipython",
    "version": 3
   },
   "file_extension": ".py",
   "mimetype": "text/x-python",
   "name": "python",
   "nbconvert_exporter": "python",
   "pygments_lexer": "ipython3",
   "version": "3.9.2"
  }
 },
 "nbformat": 4,
 "nbformat_minor": 5
}
